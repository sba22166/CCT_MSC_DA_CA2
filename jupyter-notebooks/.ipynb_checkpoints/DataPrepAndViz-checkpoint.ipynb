{
 "cells": [
  {
   "cell_type": "markdown",
   "id": "59dbb0bc",
   "metadata": {},
   "source": [
    "# Imports"
   ]
  },
  {
   "cell_type": "markdown",
   "id": "a6f77392",
   "metadata": {},
   "source": [
    "Importing the necessary packagaes for EDA/Data Prep and Viz"
   ]
  },
  {
   "cell_type": "code",
   "execution_count": 18,
   "id": "fd7295a0",
   "metadata": {
    "scrolled": false
   },
   "outputs": [],
   "source": [
    "import pandas as pd\n",
    "import numpy as np \n",
    "import warnings\n",
    "import seaborn as sns \n",
    "import matplotlib.pyplot as plt\n",
    "import plotly.express as px # Imported for GANNT chart creation.\n",
    "import matplotlib.offsetbox as offsetbox\n",
    "import matplotlib.image as image\n",
    "from matplotlib.text import Text\n",
    "\n",
    "\n",
    "\n",
    "warnings.filterwarnings('ignore')"
   ]
  },
  {
   "cell_type": "markdown",
   "id": "52edf621",
   "metadata": {},
   "source": [
    "# Project Management"
   ]
  },
  {
   "cell_type": "markdown",
   "id": "35488df7",
   "metadata": {},
   "source": [
    "This Project follows the CRISP-DM Project Management Principles.\n",
    "In order to demonstarate this a GANNT chart using Plotly's express libary (px)\n",
    "\n",
    "This initial chart will be compared to a completed one at the end of the project"
   ]
  },
  {
   "cell_type": "code",
   "execution_count": 233,
   "id": "3298992e",
   "metadata": {},
   "outputs": [
    {
     "data": {
      "application/vnd.plotly.v1+json": {
       "config": {
        "plotlyServerURL": "https://plot.ly"
       },
       "data": [
        {
         "alignmentgroup": "True",
         "base": [
          "2022-11-28",
          "2022-12-04",
          "2022-12-18",
          "2022-12-20",
          "2022-12-23",
          "2022-12-29",
          "2023-01-03",
          "2023-01-06"
         ],
         "hovertemplate": "Start=%{base}<br>Finish=%{x}<br>Task=%{y}<br>Percentage_Completed=%{marker.color}<extra></extra>",
         "legendgroup": "",
         "marker": {
          "color": [
           0,
           0,
           0,
           0,
           100,
           0,
           0,
           0
          ],
          "coloraxis": "coloraxis"
         },
         "name": "",
         "offsetgroup": "",
         "orientation": "h",
         "showlegend": false,
         "textposition": "auto",
         "type": "bar",
         "x": [
          518400000,
          1209600000,
          172800000,
          259200000,
          518400000,
          432000000,
          259200000,
          0
         ],
         "xaxis": "x",
         "y": [
          "Planning",
          "Research",
          "Justifcation",
          "Initial_Implementation",
          "Holiday",
          "Final_Implementation",
          "Report",
          "Submission"
         ],
         "yaxis": "y"
        }
       ],
       "layout": {
        "barmode": "overlay",
        "coloraxis": {
         "colorbar": {
          "title": {
           "text": "Percentage_Completed"
          }
         },
         "colorscale": [
          [
           0,
           "#0d0887"
          ],
          [
           0.1111111111111111,
           "#46039f"
          ],
          [
           0.2222222222222222,
           "#7201a8"
          ],
          [
           0.3333333333333333,
           "#9c179e"
          ],
          [
           0.4444444444444444,
           "#bd3786"
          ],
          [
           0.5555555555555556,
           "#d8576b"
          ],
          [
           0.6666666666666666,
           "#ed7953"
          ],
          [
           0.7777777777777778,
           "#fb9f3a"
          ],
          [
           0.8888888888888888,
           "#fdca26"
          ],
          [
           1,
           "#f0f921"
          ]
         ]
        },
        "legend": {
         "tracegroupgap": 0
        },
        "margin": {
         "t": 60
        },
        "template": {
         "data": {
          "bar": [
           {
            "error_x": {
             "color": "#2a3f5f"
            },
            "error_y": {
             "color": "#2a3f5f"
            },
            "marker": {
             "line": {
              "color": "#E5ECF6",
              "width": 0.5
             },
             "pattern": {
              "fillmode": "overlay",
              "size": 10,
              "solidity": 0.2
             }
            },
            "type": "bar"
           }
          ],
          "barpolar": [
           {
            "marker": {
             "line": {
              "color": "#E5ECF6",
              "width": 0.5
             },
             "pattern": {
              "fillmode": "overlay",
              "size": 10,
              "solidity": 0.2
             }
            },
            "type": "barpolar"
           }
          ],
          "carpet": [
           {
            "aaxis": {
             "endlinecolor": "#2a3f5f",
             "gridcolor": "white",
             "linecolor": "white",
             "minorgridcolor": "white",
             "startlinecolor": "#2a3f5f"
            },
            "baxis": {
             "endlinecolor": "#2a3f5f",
             "gridcolor": "white",
             "linecolor": "white",
             "minorgridcolor": "white",
             "startlinecolor": "#2a3f5f"
            },
            "type": "carpet"
           }
          ],
          "choropleth": [
           {
            "colorbar": {
             "outlinewidth": 0,
             "ticks": ""
            },
            "type": "choropleth"
           }
          ],
          "contour": [
           {
            "colorbar": {
             "outlinewidth": 0,
             "ticks": ""
            },
            "colorscale": [
             [
              0,
              "#0d0887"
             ],
             [
              0.1111111111111111,
              "#46039f"
             ],
             [
              0.2222222222222222,
              "#7201a8"
             ],
             [
              0.3333333333333333,
              "#9c179e"
             ],
             [
              0.4444444444444444,
              "#bd3786"
             ],
             [
              0.5555555555555556,
              "#d8576b"
             ],
             [
              0.6666666666666666,
              "#ed7953"
             ],
             [
              0.7777777777777778,
              "#fb9f3a"
             ],
             [
              0.8888888888888888,
              "#fdca26"
             ],
             [
              1,
              "#f0f921"
             ]
            ],
            "type": "contour"
           }
          ],
          "contourcarpet": [
           {
            "colorbar": {
             "outlinewidth": 0,
             "ticks": ""
            },
            "type": "contourcarpet"
           }
          ],
          "heatmap": [
           {
            "colorbar": {
             "outlinewidth": 0,
             "ticks": ""
            },
            "colorscale": [
             [
              0,
              "#0d0887"
             ],
             [
              0.1111111111111111,
              "#46039f"
             ],
             [
              0.2222222222222222,
              "#7201a8"
             ],
             [
              0.3333333333333333,
              "#9c179e"
             ],
             [
              0.4444444444444444,
              "#bd3786"
             ],
             [
              0.5555555555555556,
              "#d8576b"
             ],
             [
              0.6666666666666666,
              "#ed7953"
             ],
             [
              0.7777777777777778,
              "#fb9f3a"
             ],
             [
              0.8888888888888888,
              "#fdca26"
             ],
             [
              1,
              "#f0f921"
             ]
            ],
            "type": "heatmap"
           }
          ],
          "heatmapgl": [
           {
            "colorbar": {
             "outlinewidth": 0,
             "ticks": ""
            },
            "colorscale": [
             [
              0,
              "#0d0887"
             ],
             [
              0.1111111111111111,
              "#46039f"
             ],
             [
              0.2222222222222222,
              "#7201a8"
             ],
             [
              0.3333333333333333,
              "#9c179e"
             ],
             [
              0.4444444444444444,
              "#bd3786"
             ],
             [
              0.5555555555555556,
              "#d8576b"
             ],
             [
              0.6666666666666666,
              "#ed7953"
             ],
             [
              0.7777777777777778,
              "#fb9f3a"
             ],
             [
              0.8888888888888888,
              "#fdca26"
             ],
             [
              1,
              "#f0f921"
             ]
            ],
            "type": "heatmapgl"
           }
          ],
          "histogram": [
           {
            "marker": {
             "pattern": {
              "fillmode": "overlay",
              "size": 10,
              "solidity": 0.2
             }
            },
            "type": "histogram"
           }
          ],
          "histogram2d": [
           {
            "colorbar": {
             "outlinewidth": 0,
             "ticks": ""
            },
            "colorscale": [
             [
              0,
              "#0d0887"
             ],
             [
              0.1111111111111111,
              "#46039f"
             ],
             [
              0.2222222222222222,
              "#7201a8"
             ],
             [
              0.3333333333333333,
              "#9c179e"
             ],
             [
              0.4444444444444444,
              "#bd3786"
             ],
             [
              0.5555555555555556,
              "#d8576b"
             ],
             [
              0.6666666666666666,
              "#ed7953"
             ],
             [
              0.7777777777777778,
              "#fb9f3a"
             ],
             [
              0.8888888888888888,
              "#fdca26"
             ],
             [
              1,
              "#f0f921"
             ]
            ],
            "type": "histogram2d"
           }
          ],
          "histogram2dcontour": [
           {
            "colorbar": {
             "outlinewidth": 0,
             "ticks": ""
            },
            "colorscale": [
             [
              0,
              "#0d0887"
             ],
             [
              0.1111111111111111,
              "#46039f"
             ],
             [
              0.2222222222222222,
              "#7201a8"
             ],
             [
              0.3333333333333333,
              "#9c179e"
             ],
             [
              0.4444444444444444,
              "#bd3786"
             ],
             [
              0.5555555555555556,
              "#d8576b"
             ],
             [
              0.6666666666666666,
              "#ed7953"
             ],
             [
              0.7777777777777778,
              "#fb9f3a"
             ],
             [
              0.8888888888888888,
              "#fdca26"
             ],
             [
              1,
              "#f0f921"
             ]
            ],
            "type": "histogram2dcontour"
           }
          ],
          "mesh3d": [
           {
            "colorbar": {
             "outlinewidth": 0,
             "ticks": ""
            },
            "type": "mesh3d"
           }
          ],
          "parcoords": [
           {
            "line": {
             "colorbar": {
              "outlinewidth": 0,
              "ticks": ""
             }
            },
            "type": "parcoords"
           }
          ],
          "pie": [
           {
            "automargin": true,
            "type": "pie"
           }
          ],
          "scatter": [
           {
            "marker": {
             "colorbar": {
              "outlinewidth": 0,
              "ticks": ""
             }
            },
            "type": "scatter"
           }
          ],
          "scatter3d": [
           {
            "line": {
             "colorbar": {
              "outlinewidth": 0,
              "ticks": ""
             }
            },
            "marker": {
             "colorbar": {
              "outlinewidth": 0,
              "ticks": ""
             }
            },
            "type": "scatter3d"
           }
          ],
          "scattercarpet": [
           {
            "marker": {
             "colorbar": {
              "outlinewidth": 0,
              "ticks": ""
             }
            },
            "type": "scattercarpet"
           }
          ],
          "scattergeo": [
           {
            "marker": {
             "colorbar": {
              "outlinewidth": 0,
              "ticks": ""
             }
            },
            "type": "scattergeo"
           }
          ],
          "scattergl": [
           {
            "marker": {
             "colorbar": {
              "outlinewidth": 0,
              "ticks": ""
             }
            },
            "type": "scattergl"
           }
          ],
          "scattermapbox": [
           {
            "marker": {
             "colorbar": {
              "outlinewidth": 0,
              "ticks": ""
             }
            },
            "type": "scattermapbox"
           }
          ],
          "scatterpolar": [
           {
            "marker": {
             "colorbar": {
              "outlinewidth": 0,
              "ticks": ""
             }
            },
            "type": "scatterpolar"
           }
          ],
          "scatterpolargl": [
           {
            "marker": {
             "colorbar": {
              "outlinewidth": 0,
              "ticks": ""
             }
            },
            "type": "scatterpolargl"
           }
          ],
          "scatterternary": [
           {
            "marker": {
             "colorbar": {
              "outlinewidth": 0,
              "ticks": ""
             }
            },
            "type": "scatterternary"
           }
          ],
          "surface": [
           {
            "colorbar": {
             "outlinewidth": 0,
             "ticks": ""
            },
            "colorscale": [
             [
              0,
              "#0d0887"
             ],
             [
              0.1111111111111111,
              "#46039f"
             ],
             [
              0.2222222222222222,
              "#7201a8"
             ],
             [
              0.3333333333333333,
              "#9c179e"
             ],
             [
              0.4444444444444444,
              "#bd3786"
             ],
             [
              0.5555555555555556,
              "#d8576b"
             ],
             [
              0.6666666666666666,
              "#ed7953"
             ],
             [
              0.7777777777777778,
              "#fb9f3a"
             ],
             [
              0.8888888888888888,
              "#fdca26"
             ],
             [
              1,
              "#f0f921"
             ]
            ],
            "type": "surface"
           }
          ],
          "table": [
           {
            "cells": {
             "fill": {
              "color": "#EBF0F8"
             },
             "line": {
              "color": "white"
             }
            },
            "header": {
             "fill": {
              "color": "#C8D4E3"
             },
             "line": {
              "color": "white"
             }
            },
            "type": "table"
           }
          ]
         },
         "layout": {
          "annotationdefaults": {
           "arrowcolor": "#2a3f5f",
           "arrowhead": 0,
           "arrowwidth": 1
          },
          "autotypenumbers": "strict",
          "coloraxis": {
           "colorbar": {
            "outlinewidth": 0,
            "ticks": ""
           }
          },
          "colorscale": {
           "diverging": [
            [
             0,
             "#8e0152"
            ],
            [
             0.1,
             "#c51b7d"
            ],
            [
             0.2,
             "#de77ae"
            ],
            [
             0.3,
             "#f1b6da"
            ],
            [
             0.4,
             "#fde0ef"
            ],
            [
             0.5,
             "#f7f7f7"
            ],
            [
             0.6,
             "#e6f5d0"
            ],
            [
             0.7,
             "#b8e186"
            ],
            [
             0.8,
             "#7fbc41"
            ],
            [
             0.9,
             "#4d9221"
            ],
            [
             1,
             "#276419"
            ]
           ],
           "sequential": [
            [
             0,
             "#0d0887"
            ],
            [
             0.1111111111111111,
             "#46039f"
            ],
            [
             0.2222222222222222,
             "#7201a8"
            ],
            [
             0.3333333333333333,
             "#9c179e"
            ],
            [
             0.4444444444444444,
             "#bd3786"
            ],
            [
             0.5555555555555556,
             "#d8576b"
            ],
            [
             0.6666666666666666,
             "#ed7953"
            ],
            [
             0.7777777777777778,
             "#fb9f3a"
            ],
            [
             0.8888888888888888,
             "#fdca26"
            ],
            [
             1,
             "#f0f921"
            ]
           ],
           "sequentialminus": [
            [
             0,
             "#0d0887"
            ],
            [
             0.1111111111111111,
             "#46039f"
            ],
            [
             0.2222222222222222,
             "#7201a8"
            ],
            [
             0.3333333333333333,
             "#9c179e"
            ],
            [
             0.4444444444444444,
             "#bd3786"
            ],
            [
             0.5555555555555556,
             "#d8576b"
            ],
            [
             0.6666666666666666,
             "#ed7953"
            ],
            [
             0.7777777777777778,
             "#fb9f3a"
            ],
            [
             0.8888888888888888,
             "#fdca26"
            ],
            [
             1,
             "#f0f921"
            ]
           ]
          },
          "colorway": [
           "#636efa",
           "#EF553B",
           "#00cc96",
           "#ab63fa",
           "#FFA15A",
           "#19d3f3",
           "#FF6692",
           "#B6E880",
           "#FF97FF",
           "#FECB52"
          ],
          "font": {
           "color": "#2a3f5f"
          },
          "geo": {
           "bgcolor": "white",
           "lakecolor": "white",
           "landcolor": "#E5ECF6",
           "showlakes": true,
           "showland": true,
           "subunitcolor": "white"
          },
          "hoverlabel": {
           "align": "left"
          },
          "hovermode": "closest",
          "mapbox": {
           "style": "light"
          },
          "paper_bgcolor": "white",
          "plot_bgcolor": "#E5ECF6",
          "polar": {
           "angularaxis": {
            "gridcolor": "white",
            "linecolor": "white",
            "ticks": ""
           },
           "bgcolor": "#E5ECF6",
           "radialaxis": {
            "gridcolor": "white",
            "linecolor": "white",
            "ticks": ""
           }
          },
          "scene": {
           "xaxis": {
            "backgroundcolor": "#E5ECF6",
            "gridcolor": "white",
            "gridwidth": 2,
            "linecolor": "white",
            "showbackground": true,
            "ticks": "",
            "zerolinecolor": "white"
           },
           "yaxis": {
            "backgroundcolor": "#E5ECF6",
            "gridcolor": "white",
            "gridwidth": 2,
            "linecolor": "white",
            "showbackground": true,
            "ticks": "",
            "zerolinecolor": "white"
           },
           "zaxis": {
            "backgroundcolor": "#E5ECF6",
            "gridcolor": "white",
            "gridwidth": 2,
            "linecolor": "white",
            "showbackground": true,
            "ticks": "",
            "zerolinecolor": "white"
           }
          },
          "shapedefaults": {
           "line": {
            "color": "#2a3f5f"
           }
          },
          "ternary": {
           "aaxis": {
            "gridcolor": "white",
            "linecolor": "white",
            "ticks": ""
           },
           "baxis": {
            "gridcolor": "white",
            "linecolor": "white",
            "ticks": ""
           },
           "bgcolor": "#E5ECF6",
           "caxis": {
            "gridcolor": "white",
            "linecolor": "white",
            "ticks": ""
           }
          },
          "title": {
           "x": 0.05
          },
          "xaxis": {
           "automargin": true,
           "gridcolor": "white",
           "linecolor": "white",
           "ticks": "",
           "title": {
            "standoff": 15
           },
           "zerolinecolor": "white",
           "zerolinewidth": 2
          },
          "yaxis": {
           "automargin": true,
           "gridcolor": "white",
           "linecolor": "white",
           "ticks": "",
           "title": {
            "standoff": 15
           },
           "zerolinecolor": "white",
           "zerolinewidth": 2
          }
         }
        },
        "title": {
         "text": " Initial CA2 GANNT Chart",
         "x": 0.5
        },
        "xaxis": {
         "anchor": "y",
         "domain": [
          0,
          1
         ],
         "type": "date"
        },
        "yaxis": {
         "anchor": "x",
         "domain": [
          0,
          1
         ],
         "title": {
          "text": "Task"
         }
        }
       }
      },
      "text/html": [
       "<div>                            <div id=\"e77df880-18a0-4ba4-af6d-1f8ae8dea66f\" class=\"plotly-graph-div\" style=\"height:525px; width:100%;\"></div>            <script type=\"text/javascript\">                require([\"plotly\"], function(Plotly) {                    window.PLOTLYENV=window.PLOTLYENV || {};                                    if (document.getElementById(\"e77df880-18a0-4ba4-af6d-1f8ae8dea66f\")) {                    Plotly.newPlot(                        \"e77df880-18a0-4ba4-af6d-1f8ae8dea66f\",                        [{\"alignmentgroup\":\"True\",\"base\":[\"2022-11-28\",\"2022-12-04\",\"2022-12-18\",\"2022-12-20\",\"2022-12-23\",\"2022-12-29\",\"2023-01-03\",\"2023-01-06\"],\"hovertemplate\":\"Start=%{base}<br>Finish=%{x}<br>Task=%{y}<br>Percentage_Completed=%{marker.color}<extra></extra>\",\"legendgroup\":\"\",\"marker\":{\"color\":[0,0,0,0,100,0,0,0],\"coloraxis\":\"coloraxis\"},\"name\":\"\",\"offsetgroup\":\"\",\"orientation\":\"h\",\"showlegend\":false,\"textposition\":\"auto\",\"x\":[518400000.0,1209600000.0,172800000.0,259200000.0,518400000.0,432000000.0,259200000.0,0.0],\"xaxis\":\"x\",\"y\":[\"Planning\",\"Research\",\"Justifcation\",\"Initial_Implementation\",\"Holiday\",\"Final_Implementation\",\"Report\",\"Submission\"],\"yaxis\":\"y\",\"type\":\"bar\"}],                        {\"template\":{\"data\":{\"bar\":[{\"error_x\":{\"color\":\"#2a3f5f\"},\"error_y\":{\"color\":\"#2a3f5f\"},\"marker\":{\"line\":{\"color\":\"#E5ECF6\",\"width\":0.5},\"pattern\":{\"fillmode\":\"overlay\",\"size\":10,\"solidity\":0.2}},\"type\":\"bar\"}],\"barpolar\":[{\"marker\":{\"line\":{\"color\":\"#E5ECF6\",\"width\":0.5},\"pattern\":{\"fillmode\":\"overlay\",\"size\":10,\"solidity\":0.2}},\"type\":\"barpolar\"}],\"carpet\":[{\"aaxis\":{\"endlinecolor\":\"#2a3f5f\",\"gridcolor\":\"white\",\"linecolor\":\"white\",\"minorgridcolor\":\"white\",\"startlinecolor\":\"#2a3f5f\"},\"baxis\":{\"endlinecolor\":\"#2a3f5f\",\"gridcolor\":\"white\",\"linecolor\":\"white\",\"minorgridcolor\":\"white\",\"startlinecolor\":\"#2a3f5f\"},\"type\":\"carpet\"}],\"choropleth\":[{\"colorbar\":{\"outlinewidth\":0,\"ticks\":\"\"},\"type\":\"choropleth\"}],\"contour\":[{\"colorbar\":{\"outlinewidth\":0,\"ticks\":\"\"},\"colorscale\":[[0.0,\"#0d0887\"],[0.1111111111111111,\"#46039f\"],[0.2222222222222222,\"#7201a8\"],[0.3333333333333333,\"#9c179e\"],[0.4444444444444444,\"#bd3786\"],[0.5555555555555556,\"#d8576b\"],[0.6666666666666666,\"#ed7953\"],[0.7777777777777778,\"#fb9f3a\"],[0.8888888888888888,\"#fdca26\"],[1.0,\"#f0f921\"]],\"type\":\"contour\"}],\"contourcarpet\":[{\"colorbar\":{\"outlinewidth\":0,\"ticks\":\"\"},\"type\":\"contourcarpet\"}],\"heatmap\":[{\"colorbar\":{\"outlinewidth\":0,\"ticks\":\"\"},\"colorscale\":[[0.0,\"#0d0887\"],[0.1111111111111111,\"#46039f\"],[0.2222222222222222,\"#7201a8\"],[0.3333333333333333,\"#9c179e\"],[0.4444444444444444,\"#bd3786\"],[0.5555555555555556,\"#d8576b\"],[0.6666666666666666,\"#ed7953\"],[0.7777777777777778,\"#fb9f3a\"],[0.8888888888888888,\"#fdca26\"],[1.0,\"#f0f921\"]],\"type\":\"heatmap\"}],\"heatmapgl\":[{\"colorbar\":{\"outlinewidth\":0,\"ticks\":\"\"},\"colorscale\":[[0.0,\"#0d0887\"],[0.1111111111111111,\"#46039f\"],[0.2222222222222222,\"#7201a8\"],[0.3333333333333333,\"#9c179e\"],[0.4444444444444444,\"#bd3786\"],[0.5555555555555556,\"#d8576b\"],[0.6666666666666666,\"#ed7953\"],[0.7777777777777778,\"#fb9f3a\"],[0.8888888888888888,\"#fdca26\"],[1.0,\"#f0f921\"]],\"type\":\"heatmapgl\"}],\"histogram\":[{\"marker\":{\"pattern\":{\"fillmode\":\"overlay\",\"size\":10,\"solidity\":0.2}},\"type\":\"histogram\"}],\"histogram2d\":[{\"colorbar\":{\"outlinewidth\":0,\"ticks\":\"\"},\"colorscale\":[[0.0,\"#0d0887\"],[0.1111111111111111,\"#46039f\"],[0.2222222222222222,\"#7201a8\"],[0.3333333333333333,\"#9c179e\"],[0.4444444444444444,\"#bd3786\"],[0.5555555555555556,\"#d8576b\"],[0.6666666666666666,\"#ed7953\"],[0.7777777777777778,\"#fb9f3a\"],[0.8888888888888888,\"#fdca26\"],[1.0,\"#f0f921\"]],\"type\":\"histogram2d\"}],\"histogram2dcontour\":[{\"colorbar\":{\"outlinewidth\":0,\"ticks\":\"\"},\"colorscale\":[[0.0,\"#0d0887\"],[0.1111111111111111,\"#46039f\"],[0.2222222222222222,\"#7201a8\"],[0.3333333333333333,\"#9c179e\"],[0.4444444444444444,\"#bd3786\"],[0.5555555555555556,\"#d8576b\"],[0.6666666666666666,\"#ed7953\"],[0.7777777777777778,\"#fb9f3a\"],[0.8888888888888888,\"#fdca26\"],[1.0,\"#f0f921\"]],\"type\":\"histogram2dcontour\"}],\"mesh3d\":[{\"colorbar\":{\"outlinewidth\":0,\"ticks\":\"\"},\"type\":\"mesh3d\"}],\"parcoords\":[{\"line\":{\"colorbar\":{\"outlinewidth\":0,\"ticks\":\"\"}},\"type\":\"parcoords\"}],\"pie\":[{\"automargin\":true,\"type\":\"pie\"}],\"scatter\":[{\"marker\":{\"colorbar\":{\"outlinewidth\":0,\"ticks\":\"\"}},\"type\":\"scatter\"}],\"scatter3d\":[{\"line\":{\"colorbar\":{\"outlinewidth\":0,\"ticks\":\"\"}},\"marker\":{\"colorbar\":{\"outlinewidth\":0,\"ticks\":\"\"}},\"type\":\"scatter3d\"}],\"scattercarpet\":[{\"marker\":{\"colorbar\":{\"outlinewidth\":0,\"ticks\":\"\"}},\"type\":\"scattercarpet\"}],\"scattergeo\":[{\"marker\":{\"colorbar\":{\"outlinewidth\":0,\"ticks\":\"\"}},\"type\":\"scattergeo\"}],\"scattergl\":[{\"marker\":{\"colorbar\":{\"outlinewidth\":0,\"ticks\":\"\"}},\"type\":\"scattergl\"}],\"scattermapbox\":[{\"marker\":{\"colorbar\":{\"outlinewidth\":0,\"ticks\":\"\"}},\"type\":\"scattermapbox\"}],\"scatterpolar\":[{\"marker\":{\"colorbar\":{\"outlinewidth\":0,\"ticks\":\"\"}},\"type\":\"scatterpolar\"}],\"scatterpolargl\":[{\"marker\":{\"colorbar\":{\"outlinewidth\":0,\"ticks\":\"\"}},\"type\":\"scatterpolargl\"}],\"scatterternary\":[{\"marker\":{\"colorbar\":{\"outlinewidth\":0,\"ticks\":\"\"}},\"type\":\"scatterternary\"}],\"surface\":[{\"colorbar\":{\"outlinewidth\":0,\"ticks\":\"\"},\"colorscale\":[[0.0,\"#0d0887\"],[0.1111111111111111,\"#46039f\"],[0.2222222222222222,\"#7201a8\"],[0.3333333333333333,\"#9c179e\"],[0.4444444444444444,\"#bd3786\"],[0.5555555555555556,\"#d8576b\"],[0.6666666666666666,\"#ed7953\"],[0.7777777777777778,\"#fb9f3a\"],[0.8888888888888888,\"#fdca26\"],[1.0,\"#f0f921\"]],\"type\":\"surface\"}],\"table\":[{\"cells\":{\"fill\":{\"color\":\"#EBF0F8\"},\"line\":{\"color\":\"white\"}},\"header\":{\"fill\":{\"color\":\"#C8D4E3\"},\"line\":{\"color\":\"white\"}},\"type\":\"table\"}]},\"layout\":{\"annotationdefaults\":{\"arrowcolor\":\"#2a3f5f\",\"arrowhead\":0,\"arrowwidth\":1},\"autotypenumbers\":\"strict\",\"coloraxis\":{\"colorbar\":{\"outlinewidth\":0,\"ticks\":\"\"}},\"colorscale\":{\"diverging\":[[0,\"#8e0152\"],[0.1,\"#c51b7d\"],[0.2,\"#de77ae\"],[0.3,\"#f1b6da\"],[0.4,\"#fde0ef\"],[0.5,\"#f7f7f7\"],[0.6,\"#e6f5d0\"],[0.7,\"#b8e186\"],[0.8,\"#7fbc41\"],[0.9,\"#4d9221\"],[1,\"#276419\"]],\"sequential\":[[0.0,\"#0d0887\"],[0.1111111111111111,\"#46039f\"],[0.2222222222222222,\"#7201a8\"],[0.3333333333333333,\"#9c179e\"],[0.4444444444444444,\"#bd3786\"],[0.5555555555555556,\"#d8576b\"],[0.6666666666666666,\"#ed7953\"],[0.7777777777777778,\"#fb9f3a\"],[0.8888888888888888,\"#fdca26\"],[1.0,\"#f0f921\"]],\"sequentialminus\":[[0.0,\"#0d0887\"],[0.1111111111111111,\"#46039f\"],[0.2222222222222222,\"#7201a8\"],[0.3333333333333333,\"#9c179e\"],[0.4444444444444444,\"#bd3786\"],[0.5555555555555556,\"#d8576b\"],[0.6666666666666666,\"#ed7953\"],[0.7777777777777778,\"#fb9f3a\"],[0.8888888888888888,\"#fdca26\"],[1.0,\"#f0f921\"]]},\"colorway\":[\"#636efa\",\"#EF553B\",\"#00cc96\",\"#ab63fa\",\"#FFA15A\",\"#19d3f3\",\"#FF6692\",\"#B6E880\",\"#FF97FF\",\"#FECB52\"],\"font\":{\"color\":\"#2a3f5f\"},\"geo\":{\"bgcolor\":\"white\",\"lakecolor\":\"white\",\"landcolor\":\"#E5ECF6\",\"showlakes\":true,\"showland\":true,\"subunitcolor\":\"white\"},\"hoverlabel\":{\"align\":\"left\"},\"hovermode\":\"closest\",\"mapbox\":{\"style\":\"light\"},\"paper_bgcolor\":\"white\",\"plot_bgcolor\":\"#E5ECF6\",\"polar\":{\"angularaxis\":{\"gridcolor\":\"white\",\"linecolor\":\"white\",\"ticks\":\"\"},\"bgcolor\":\"#E5ECF6\",\"radialaxis\":{\"gridcolor\":\"white\",\"linecolor\":\"white\",\"ticks\":\"\"}},\"scene\":{\"xaxis\":{\"backgroundcolor\":\"#E5ECF6\",\"gridcolor\":\"white\",\"gridwidth\":2,\"linecolor\":\"white\",\"showbackground\":true,\"ticks\":\"\",\"zerolinecolor\":\"white\"},\"yaxis\":{\"backgroundcolor\":\"#E5ECF6\",\"gridcolor\":\"white\",\"gridwidth\":2,\"linecolor\":\"white\",\"showbackground\":true,\"ticks\":\"\",\"zerolinecolor\":\"white\"},\"zaxis\":{\"backgroundcolor\":\"#E5ECF6\",\"gridcolor\":\"white\",\"gridwidth\":2,\"linecolor\":\"white\",\"showbackground\":true,\"ticks\":\"\",\"zerolinecolor\":\"white\"}},\"shapedefaults\":{\"line\":{\"color\":\"#2a3f5f\"}},\"ternary\":{\"aaxis\":{\"gridcolor\":\"white\",\"linecolor\":\"white\",\"ticks\":\"\"},\"baxis\":{\"gridcolor\":\"white\",\"linecolor\":\"white\",\"ticks\":\"\"},\"bgcolor\":\"#E5ECF6\",\"caxis\":{\"gridcolor\":\"white\",\"linecolor\":\"white\",\"ticks\":\"\"}},\"title\":{\"x\":0.05},\"xaxis\":{\"automargin\":true,\"gridcolor\":\"white\",\"linecolor\":\"white\",\"ticks\":\"\",\"title\":{\"standoff\":15},\"zerolinecolor\":\"white\",\"zerolinewidth\":2},\"yaxis\":{\"automargin\":true,\"gridcolor\":\"white\",\"linecolor\":\"white\",\"ticks\":\"\",\"title\":{\"standoff\":15},\"zerolinecolor\":\"white\",\"zerolinewidth\":2}}},\"xaxis\":{\"anchor\":\"y\",\"domain\":[0.0,1.0],\"type\":\"date\"},\"yaxis\":{\"anchor\":\"x\",\"domain\":[0.0,1.0],\"title\":{\"text\":\"Task\"}},\"coloraxis\":{\"colorbar\":{\"title\":{\"text\":\"Percentage_Completed\"}},\"colorscale\":[[0.0,\"#0d0887\"],[0.1111111111111111,\"#46039f\"],[0.2222222222222222,\"#7201a8\"],[0.3333333333333333,\"#9c179e\"],[0.4444444444444444,\"#bd3786\"],[0.5555555555555556,\"#d8576b\"],[0.6666666666666666,\"#ed7953\"],[0.7777777777777778,\"#fb9f3a\"],[0.8888888888888888,\"#fdca26\"],[1.0,\"#f0f921\"]]},\"legend\":{\"tracegroupgap\":0},\"margin\":{\"t\":60},\"barmode\":\"overlay\",\"title\":{\"text\":\" Initial CA2 GANNT Chart\",\"x\":0.5}},                        {\"responsive\": true}                    ).then(function(){\n",
       "                            \n",
       "var gd = document.getElementById('e77df880-18a0-4ba4-af6d-1f8ae8dea66f');\n",
       "var x = new MutationObserver(function (mutations, observer) {{\n",
       "        var display = window.getComputedStyle(gd).display;\n",
       "        if (!display || display === 'none') {{\n",
       "            console.log([gd, 'removed!']);\n",
       "            Plotly.purge(gd);\n",
       "            observer.disconnect();\n",
       "        }}\n",
       "}});\n",
       "\n",
       "// Listen for the removal of the full notebook cells\n",
       "var notebookContainer = gd.closest('#notebook-container');\n",
       "if (notebookContainer) {{\n",
       "    x.observe(notebookContainer, {childList: true});\n",
       "}}\n",
       "\n",
       "// Listen for the clearing of the current output cell\n",
       "var outputEl = gd.closest('.output');\n",
       "if (outputEl) {{\n",
       "    x.observe(outputEl, {childList: true});\n",
       "}}\n",
       "\n",
       "                        })                };                });            </script>        </div>"
      ]
     },
     "metadata": {},
     "output_type": "display_data"
    }
   ],
   "source": [
    "ProjectGanttChart = pd.DataFrame([\n",
    "    dict(Task=\"Planning\", Start='2022-11-28', Finish='2022-12-04', Percentage_Completed=0),\n",
    "    dict(Task=\"Research\", Start='2022-12-04', Finish='2022-12-18',  Percentage_Completed=0),\n",
    "    dict(Task=\"Justifcation\", Start='2022-12-18', Finish='2022-12-20',Percentage_Completed=0),\n",
    "    dict(Task=\"Initial_Implementation\", Start='2022-12-20', Finish='2022-12-23', Percentage_Completed=0),\n",
    "    dict(Task=\"Holiday\", Start='2022-12-23', Finish='2022-12-29', Percentage_Completed=100),\n",
    "    dict(Task=\"Final_Implementation\", Start='2022-12-29', Finish='2023-01-03', Percentage_Completed=0),\n",
    "    dict(Task=\"Report\", Start='2023-01-03', Finish='2023-01-06', Percentage_Completed=0),\n",
    "    dict(Task=\"Submission\", Start='2023-01-06', Finish='2023-01-06',Percentage_Completed=0),\n",
    "])\n",
    "\n",
    "fig = px.timeline(ProjectGanttChart, x_start=\"Start\", x_end=\"Finish\", y=\"Task\", color=\"Percentage_Completed\")\n",
    "# Title was not centred so used the below to centre to title layout.\n",
    "fig.update_layout(title_text=\" Initial CA2 GANNT Chart\", title_x=0.5)\n",
    "fig.show()"
   ]
  },
  {
   "cell_type": "markdown",
   "id": "7340670b",
   "metadata": {},
   "source": [
    "Placeholder for Final GANTT Chart to be completed after the project is completed"
   ]
  },
  {
   "cell_type": "code",
   "execution_count": 20,
   "id": "344a3a11",
   "metadata": {},
   "outputs": [],
   "source": [
    "#FinalProjectGanttChart = pd.DataFrame([\n",
    "#    dict(Task=\"Planning\", Start='2022-11-28', Finish='2022-12-04', Percentage_Completed=0),\n",
    "#    dict(Task=\"Research\", Start='2022-12-04', Finish='2022-12-18',  Percentage_Completed=0),\n",
    "#    dict(Task=\"Justifcation\", Start='2022-12-18', Finish='2022-12-20',Percentage_Completed=0),\n",
    "#    dict(Task=\"Initial_Implementation\", Start='2022-12-20', Finish='2022-12-23', Percentage_Completed=0),\n",
    "#    dict(Task=\"Holiday\", Start='2022-12-23', Finish='2022-12-29', Percentage_Completed=100),\n",
    "#    dict(Task=\"Final_Implementation\", Start='2022-12-29', Finish='2023-01-03', Percentage_Completed=0),\n",
    "#    dict(Task=\"Report\", Start='2023-01-03', Finish='2023-01-06', Percentage_Completed=0),\n",
    "#    dict(Task=\"Submission\", Start='2023-01-06', Finish='2023-01-06',Percentage_Completed=0),\n",
    "#])\n",
    "\n",
    "#fig = px.timeline(FinalProjectGanttChart, x_start=\"Start\", x_end=\"Finish\", y=\"Task\", color=\"Percentage_Completed\")\n",
    "# Title was not centred so used the below to centre to title layout.\n",
    "#fig.update_layout(title_text=\"CA2 GANNT Chart\", title_x=0.5)\n",
    "#fig.show()"
   ]
  },
  {
   "cell_type": "markdown",
   "id": "6d6f1677",
   "metadata": {},
   "source": [
    "# EDA ( Early Data analysis ) "
   ]
  },
  {
   "cell_type": "markdown",
   "id": "1e6514e8",
   "metadata": {},
   "source": [
    "This part contains the steps and processes in obtaining and cleaning the data for this project"
   ]
  },
  {
   "cell_type": "markdown",
   "id": "bc17c27b",
   "metadata": {},
   "source": [
    "The task at hand is analysing Ireland's Agricultural data and comparing the Irish Agri sector with other countries worldwide."
   ]
  },
  {
   "cell_type": "markdown",
   "id": "4b1363e4",
   "metadata": {},
   "source": [
    "Coming from somehwat of a farming background I have decided on looking at Cattle data"
   ]
  },
  {
   "cell_type": "markdown",
   "id": "a76e63bd",
   "metadata": {},
   "source": [
    "From some quick checks online, Germany, France and Ireland account for some of the biggest Bovine population in the EU.\n",
    "Later I will compare just these 3 Countries"
   ]
  },
  {
   "cell_type": "markdown",
   "id": "935c4531",
   "metadata": {},
   "source": [
    "Here I am trying to add country flags to my data/graphs. I found this package online at : https://pypi.org/project/emoji-country-flag/"
   ]
  },
  {
   "cell_type": "markdown",
   "id": "d46b28b0",
   "metadata": {},
   "source": [
    "# Agricultural Data"
   ]
  },
  {
   "cell_type": "markdown",
   "id": "dd4c78dc",
   "metadata": {},
   "source": [
    "Now lets get the Agg data prepped for ML and Stats"
   ]
  },
  {
   "cell_type": "markdown",
   "id": "0b76ce8d",
   "metadata": {},
   "source": [
    "These datasets are split into 2 parts, Dairy and Bovine sets"
   ]
  },
  {
   "cell_type": "code",
   "execution_count": 52,
   "id": "1c3268a5",
   "metadata": {},
   "outputs": [],
   "source": [
    "Dairy_Cow_Numbers = pd.read_csv ('../datasets/tag00014_page_linear.csv')\n",
    "Dairy_Milk_Prices = pd.read_csv ('../datasets/tag00070_page_linear.csv')"
   ]
  },
  {
   "cell_type": "code",
   "execution_count": 53,
   "id": "cf35a918",
   "metadata": {},
   "outputs": [],
   "source": [
    "Bovine_Numbers = pd.read_csv ('../datasets/tag00016_page_linear.csv')\n",
    "Bovine_Meat_No = pd.read_csv ('../datasets/tag00044_page_linear.csv')"
   ]
  },
  {
   "cell_type": "markdown",
   "id": "99557bef",
   "metadata": {},
   "source": [
    "These datasets have been taken from Eurostat , from https://ec.europa.eu/eurostat/web/main/data/database"
   ]
  },
  {
   "cell_type": "markdown",
   "id": "9466be0d",
   "metadata": {},
   "source": [
    "I have already just taken data from Ireland, Germany and Spain. So now lets aim to create three final datasets , 1 for each country"
   ]
  },
  {
   "cell_type": "markdown",
   "id": "14267098",
   "metadata": {},
   "source": [
    "# Explortory Data Analysis"
   ]
  },
  {
   "cell_type": "code",
   "execution_count": 58,
   "id": "7d59111b",
   "metadata": {},
   "outputs": [
    {
     "data": {
      "text/html": [
       "<div>\n",
       "<style scoped>\n",
       "    .dataframe tbody tr th:only-of-type {\n",
       "        vertical-align: middle;\n",
       "    }\n",
       "\n",
       "    .dataframe tbody tr th {\n",
       "        vertical-align: top;\n",
       "    }\n",
       "\n",
       "    .dataframe thead th {\n",
       "        text-align: right;\n",
       "    }\n",
       "</style>\n",
       "<table border=\"1\" class=\"dataframe\">\n",
       "  <thead>\n",
       "    <tr style=\"text-align: right;\">\n",
       "      <th></th>\n",
       "      <th>DATAFLOW</th>\n",
       "      <th>LAST UPDATE</th>\n",
       "      <th>freq</th>\n",
       "      <th>currency</th>\n",
       "      <th>prod_ani</th>\n",
       "      <th>geo</th>\n",
       "      <th>TIME_PERIOD</th>\n",
       "      <th>OBS_VALUE</th>\n",
       "      <th>OBS_FLAG</th>\n",
       "    </tr>\n",
       "  </thead>\n",
       "  <tbody>\n",
       "    <tr>\n",
       "      <th>0</th>\n",
       "      <td>ESTAT:TAG00070(1.0)</td>\n",
       "      <td>27/11/22 23:00:00</td>\n",
       "      <td>A</td>\n",
       "      <td>EUR</td>\n",
       "      <td>12112000</td>\n",
       "      <td>DE</td>\n",
       "      <td>2010</td>\n",
       "      <td>31.23</td>\n",
       "      <td>NaN</td>\n",
       "    </tr>\n",
       "    <tr>\n",
       "      <th>1</th>\n",
       "      <td>ESTAT:TAG00070(1.0)</td>\n",
       "      <td>27/11/22 23:00:00</td>\n",
       "      <td>A</td>\n",
       "      <td>EUR</td>\n",
       "      <td>12112000</td>\n",
       "      <td>DE</td>\n",
       "      <td>2011</td>\n",
       "      <td>35.19</td>\n",
       "      <td>NaN</td>\n",
       "    </tr>\n",
       "    <tr>\n",
       "      <th>2</th>\n",
       "      <td>ESTAT:TAG00070(1.0)</td>\n",
       "      <td>27/11/22 23:00:00</td>\n",
       "      <td>A</td>\n",
       "      <td>EUR</td>\n",
       "      <td>12112000</td>\n",
       "      <td>DE</td>\n",
       "      <td>2012</td>\n",
       "      <td>32.39</td>\n",
       "      <td>NaN</td>\n",
       "    </tr>\n",
       "    <tr>\n",
       "      <th>3</th>\n",
       "      <td>ESTAT:TAG00070(1.0)</td>\n",
       "      <td>27/11/22 23:00:00</td>\n",
       "      <td>A</td>\n",
       "      <td>EUR</td>\n",
       "      <td>12112000</td>\n",
       "      <td>DE</td>\n",
       "      <td>2013</td>\n",
       "      <td>38.05</td>\n",
       "      <td>NaN</td>\n",
       "    </tr>\n",
       "    <tr>\n",
       "      <th>4</th>\n",
       "      <td>ESTAT:TAG00070(1.0)</td>\n",
       "      <td>27/11/22 23:00:00</td>\n",
       "      <td>A</td>\n",
       "      <td>EUR</td>\n",
       "      <td>12112000</td>\n",
       "      <td>DE</td>\n",
       "      <td>2014</td>\n",
       "      <td>37.85</td>\n",
       "      <td>NaN</td>\n",
       "    </tr>\n",
       "  </tbody>\n",
       "</table>\n",
       "</div>"
      ],
      "text/plain": [
       "              DATAFLOW        LAST UPDATE freq currency  prod_ani geo  \\\n",
       "0  ESTAT:TAG00070(1.0)  27/11/22 23:00:00    A      EUR  12112000  DE   \n",
       "1  ESTAT:TAG00070(1.0)  27/11/22 23:00:00    A      EUR  12112000  DE   \n",
       "2  ESTAT:TAG00070(1.0)  27/11/22 23:00:00    A      EUR  12112000  DE   \n",
       "3  ESTAT:TAG00070(1.0)  27/11/22 23:00:00    A      EUR  12112000  DE   \n",
       "4  ESTAT:TAG00070(1.0)  27/11/22 23:00:00    A      EUR  12112000  DE   \n",
       "\n",
       "   TIME_PERIOD  OBS_VALUE  OBS_FLAG  \n",
       "0         2010      31.23       NaN  \n",
       "1         2011      35.19       NaN  \n",
       "2         2012      32.39       NaN  \n",
       "3         2013      38.05       NaN  \n",
       "4         2014      37.85       NaN  "
      ]
     },
     "execution_count": 58,
     "metadata": {},
     "output_type": "execute_result"
    }
   ],
   "source": [
    "Dairy_Milk_Prices.head()"
   ]
  },
  {
   "cell_type": "code",
   "execution_count": 55,
   "id": "b97ba4eb",
   "metadata": {},
   "outputs": [
    {
     "data": {
      "text/html": [
       "<div>\n",
       "<style scoped>\n",
       "    .dataframe tbody tr th:only-of-type {\n",
       "        vertical-align: middle;\n",
       "    }\n",
       "\n",
       "    .dataframe tbody tr th {\n",
       "        vertical-align: top;\n",
       "    }\n",
       "\n",
       "    .dataframe thead th {\n",
       "        text-align: right;\n",
       "    }\n",
       "</style>\n",
       "<table border=\"1\" class=\"dataframe\">\n",
       "  <thead>\n",
       "    <tr style=\"text-align: right;\">\n",
       "      <th></th>\n",
       "      <th>DATAFLOW</th>\n",
       "      <th>LAST UPDATE</th>\n",
       "      <th>freq</th>\n",
       "      <th>animals</th>\n",
       "      <th>month</th>\n",
       "      <th>unit</th>\n",
       "      <th>geo</th>\n",
       "      <th>TIME_PERIOD</th>\n",
       "      <th>OBS_VALUE</th>\n",
       "      <th>OBS_FLAG</th>\n",
       "    </tr>\n",
       "  </thead>\n",
       "  <tbody>\n",
       "    <tr>\n",
       "      <th>0</th>\n",
       "      <td>ESTAT:TAG00014(1.0)</td>\n",
       "      <td>04/01/23 23:00:00</td>\n",
       "      <td>A</td>\n",
       "      <td>A2300F</td>\n",
       "      <td>M12</td>\n",
       "      <td>THS_HD</td>\n",
       "      <td>DE</td>\n",
       "      <td>2010</td>\n",
       "      <td>4181.68</td>\n",
       "      <td>NaN</td>\n",
       "    </tr>\n",
       "    <tr>\n",
       "      <th>1</th>\n",
       "      <td>ESTAT:TAG00014(1.0)</td>\n",
       "      <td>04/01/23 23:00:00</td>\n",
       "      <td>A</td>\n",
       "      <td>A2300F</td>\n",
       "      <td>M12</td>\n",
       "      <td>THS_HD</td>\n",
       "      <td>DE</td>\n",
       "      <td>2011</td>\n",
       "      <td>4190.10</td>\n",
       "      <td>NaN</td>\n",
       "    </tr>\n",
       "    <tr>\n",
       "      <th>2</th>\n",
       "      <td>ESTAT:TAG00014(1.0)</td>\n",
       "      <td>04/01/23 23:00:00</td>\n",
       "      <td>A</td>\n",
       "      <td>A2300F</td>\n",
       "      <td>M12</td>\n",
       "      <td>THS_HD</td>\n",
       "      <td>DE</td>\n",
       "      <td>2012</td>\n",
       "      <td>4190.49</td>\n",
       "      <td>NaN</td>\n",
       "    </tr>\n",
       "    <tr>\n",
       "      <th>3</th>\n",
       "      <td>ESTAT:TAG00014(1.0)</td>\n",
       "      <td>04/01/23 23:00:00</td>\n",
       "      <td>A</td>\n",
       "      <td>A2300F</td>\n",
       "      <td>M12</td>\n",
       "      <td>THS_HD</td>\n",
       "      <td>DE</td>\n",
       "      <td>2013</td>\n",
       "      <td>4267.61</td>\n",
       "      <td>NaN</td>\n",
       "    </tr>\n",
       "    <tr>\n",
       "      <th>4</th>\n",
       "      <td>ESTAT:TAG00014(1.0)</td>\n",
       "      <td>04/01/23 23:00:00</td>\n",
       "      <td>A</td>\n",
       "      <td>A2300F</td>\n",
       "      <td>M12</td>\n",
       "      <td>THS_HD</td>\n",
       "      <td>DE</td>\n",
       "      <td>2014</td>\n",
       "      <td>4295.68</td>\n",
       "      <td>NaN</td>\n",
       "    </tr>\n",
       "  </tbody>\n",
       "</table>\n",
       "</div>"
      ],
      "text/plain": [
       "              DATAFLOW        LAST UPDATE freq animals month    unit geo  \\\n",
       "0  ESTAT:TAG00014(1.0)  04/01/23 23:00:00    A  A2300F   M12  THS_HD  DE   \n",
       "1  ESTAT:TAG00014(1.0)  04/01/23 23:00:00    A  A2300F   M12  THS_HD  DE   \n",
       "2  ESTAT:TAG00014(1.0)  04/01/23 23:00:00    A  A2300F   M12  THS_HD  DE   \n",
       "3  ESTAT:TAG00014(1.0)  04/01/23 23:00:00    A  A2300F   M12  THS_HD  DE   \n",
       "4  ESTAT:TAG00014(1.0)  04/01/23 23:00:00    A  A2300F   M12  THS_HD  DE   \n",
       "\n",
       "   TIME_PERIOD  OBS_VALUE OBS_FLAG  \n",
       "0         2010    4181.68      NaN  \n",
       "1         2011    4190.10      NaN  \n",
       "2         2012    4190.49      NaN  \n",
       "3         2013    4267.61      NaN  \n",
       "4         2014    4295.68      NaN  "
      ]
     },
     "execution_count": 55,
     "metadata": {},
     "output_type": "execute_result"
    }
   ],
   "source": [
    "Dairy_Cow_Numbers.head()"
   ]
  },
  {
   "cell_type": "code",
   "execution_count": 59,
   "id": "0d6f3906",
   "metadata": {},
   "outputs": [
    {
     "data": {
      "text/html": [
       "<div>\n",
       "<style scoped>\n",
       "    .dataframe tbody tr th:only-of-type {\n",
       "        vertical-align: middle;\n",
       "    }\n",
       "\n",
       "    .dataframe tbody tr th {\n",
       "        vertical-align: top;\n",
       "    }\n",
       "\n",
       "    .dataframe thead th {\n",
       "        text-align: right;\n",
       "    }\n",
       "</style>\n",
       "<table border=\"1\" class=\"dataframe\">\n",
       "  <thead>\n",
       "    <tr style=\"text-align: right;\">\n",
       "      <th></th>\n",
       "      <th>DATAFLOW</th>\n",
       "      <th>LAST UPDATE</th>\n",
       "      <th>freq</th>\n",
       "      <th>animals</th>\n",
       "      <th>month</th>\n",
       "      <th>unit</th>\n",
       "      <th>geo</th>\n",
       "      <th>TIME_PERIOD</th>\n",
       "      <th>OBS_VALUE</th>\n",
       "      <th>OBS_FLAG</th>\n",
       "    </tr>\n",
       "  </thead>\n",
       "  <tbody>\n",
       "    <tr>\n",
       "      <th>0</th>\n",
       "      <td>ESTAT:TAG00016(1.0)</td>\n",
       "      <td>04/01/23 23:00:00</td>\n",
       "      <td>A</td>\n",
       "      <td>A2000</td>\n",
       "      <td>M12</td>\n",
       "      <td>THS_HD</td>\n",
       "      <td>DE</td>\n",
       "      <td>2010</td>\n",
       "      <td>12706.23</td>\n",
       "      <td>NaN</td>\n",
       "    </tr>\n",
       "    <tr>\n",
       "      <th>1</th>\n",
       "      <td>ESTAT:TAG00016(1.0)</td>\n",
       "      <td>04/01/23 23:00:00</td>\n",
       "      <td>A</td>\n",
       "      <td>A2000</td>\n",
       "      <td>M12</td>\n",
       "      <td>THS_HD</td>\n",
       "      <td>DE</td>\n",
       "      <td>2011</td>\n",
       "      <td>12527.84</td>\n",
       "      <td>NaN</td>\n",
       "    </tr>\n",
       "    <tr>\n",
       "      <th>2</th>\n",
       "      <td>ESTAT:TAG00016(1.0)</td>\n",
       "      <td>04/01/23 23:00:00</td>\n",
       "      <td>A</td>\n",
       "      <td>A2000</td>\n",
       "      <td>M12</td>\n",
       "      <td>THS_HD</td>\n",
       "      <td>DE</td>\n",
       "      <td>2012</td>\n",
       "      <td>12506.77</td>\n",
       "      <td>NaN</td>\n",
       "    </tr>\n",
       "    <tr>\n",
       "      <th>3</th>\n",
       "      <td>ESTAT:TAG00016(1.0)</td>\n",
       "      <td>04/01/23 23:00:00</td>\n",
       "      <td>A</td>\n",
       "      <td>A2000</td>\n",
       "      <td>M12</td>\n",
       "      <td>THS_HD</td>\n",
       "      <td>DE</td>\n",
       "      <td>2013</td>\n",
       "      <td>12685.99</td>\n",
       "      <td>NaN</td>\n",
       "    </tr>\n",
       "    <tr>\n",
       "      <th>4</th>\n",
       "      <td>ESTAT:TAG00016(1.0)</td>\n",
       "      <td>04/01/23 23:00:00</td>\n",
       "      <td>A</td>\n",
       "      <td>A2000</td>\n",
       "      <td>M12</td>\n",
       "      <td>THS_HD</td>\n",
       "      <td>DE</td>\n",
       "      <td>2014</td>\n",
       "      <td>12742.19</td>\n",
       "      <td>NaN</td>\n",
       "    </tr>\n",
       "  </tbody>\n",
       "</table>\n",
       "</div>"
      ],
      "text/plain": [
       "              DATAFLOW        LAST UPDATE freq animals month    unit geo  \\\n",
       "0  ESTAT:TAG00016(1.0)  04/01/23 23:00:00    A   A2000   M12  THS_HD  DE   \n",
       "1  ESTAT:TAG00016(1.0)  04/01/23 23:00:00    A   A2000   M12  THS_HD  DE   \n",
       "2  ESTAT:TAG00016(1.0)  04/01/23 23:00:00    A   A2000   M12  THS_HD  DE   \n",
       "3  ESTAT:TAG00016(1.0)  04/01/23 23:00:00    A   A2000   M12  THS_HD  DE   \n",
       "4  ESTAT:TAG00016(1.0)  04/01/23 23:00:00    A   A2000   M12  THS_HD  DE   \n",
       "\n",
       "   TIME_PERIOD  OBS_VALUE OBS_FLAG  \n",
       "0         2010   12706.23      NaN  \n",
       "1         2011   12527.84      NaN  \n",
       "2         2012   12506.77      NaN  \n",
       "3         2013   12685.99      NaN  \n",
       "4         2014   12742.19      NaN  "
      ]
     },
     "execution_count": 59,
     "metadata": {},
     "output_type": "execute_result"
    }
   ],
   "source": [
    "Bovine_Numbers.head()"
   ]
  },
  {
   "cell_type": "code",
   "execution_count": 57,
   "id": "b6e12eb9",
   "metadata": {},
   "outputs": [
    {
     "data": {
      "text/html": [
       "<div>\n",
       "<style scoped>\n",
       "    .dataframe tbody tr th:only-of-type {\n",
       "        vertical-align: middle;\n",
       "    }\n",
       "\n",
       "    .dataframe tbody tr th {\n",
       "        vertical-align: top;\n",
       "    }\n",
       "\n",
       "    .dataframe thead th {\n",
       "        text-align: right;\n",
       "    }\n",
       "</style>\n",
       "<table border=\"1\" class=\"dataframe\">\n",
       "  <thead>\n",
       "    <tr style=\"text-align: right;\">\n",
       "      <th></th>\n",
       "      <th>DATAFLOW</th>\n",
       "      <th>LAST UPDATE</th>\n",
       "      <th>freq</th>\n",
       "      <th>unit</th>\n",
       "      <th>meatitem</th>\n",
       "      <th>meat</th>\n",
       "      <th>geo</th>\n",
       "      <th>TIME_PERIOD</th>\n",
       "      <th>OBS_VALUE</th>\n",
       "      <th>OBS_FLAG</th>\n",
       "    </tr>\n",
       "  </thead>\n",
       "  <tbody>\n",
       "    <tr>\n",
       "      <th>0</th>\n",
       "      <td>ESTAT:TAG00044(1.0)</td>\n",
       "      <td>24/10/22 23:00:00</td>\n",
       "      <td>A</td>\n",
       "      <td>THS_T</td>\n",
       "      <td>SL</td>\n",
       "      <td>B1000</td>\n",
       "      <td>DE</td>\n",
       "      <td>2010</td>\n",
       "      <td>1186.72</td>\n",
       "      <td>NaN</td>\n",
       "    </tr>\n",
       "    <tr>\n",
       "      <th>1</th>\n",
       "      <td>ESTAT:TAG00044(1.0)</td>\n",
       "      <td>24/10/22 23:00:00</td>\n",
       "      <td>A</td>\n",
       "      <td>THS_T</td>\n",
       "      <td>SL</td>\n",
       "      <td>B1000</td>\n",
       "      <td>DE</td>\n",
       "      <td>2011</td>\n",
       "      <td>1159.00</td>\n",
       "      <td>NaN</td>\n",
       "    </tr>\n",
       "    <tr>\n",
       "      <th>2</th>\n",
       "      <td>ESTAT:TAG00044(1.0)</td>\n",
       "      <td>24/10/22 23:00:00</td>\n",
       "      <td>A</td>\n",
       "      <td>THS_T</td>\n",
       "      <td>SL</td>\n",
       "      <td>B1000</td>\n",
       "      <td>DE</td>\n",
       "      <td>2012</td>\n",
       "      <td>1140.00</td>\n",
       "      <td>NaN</td>\n",
       "    </tr>\n",
       "    <tr>\n",
       "      <th>3</th>\n",
       "      <td>ESTAT:TAG00044(1.0)</td>\n",
       "      <td>24/10/22 23:00:00</td>\n",
       "      <td>A</td>\n",
       "      <td>THS_T</td>\n",
       "      <td>SL</td>\n",
       "      <td>B1000</td>\n",
       "      <td>DE</td>\n",
       "      <td>2013</td>\n",
       "      <td>1106.00</td>\n",
       "      <td>NaN</td>\n",
       "    </tr>\n",
       "    <tr>\n",
       "      <th>4</th>\n",
       "      <td>ESTAT:TAG00044(1.0)</td>\n",
       "      <td>24/10/22 23:00:00</td>\n",
       "      <td>A</td>\n",
       "      <td>THS_T</td>\n",
       "      <td>SL</td>\n",
       "      <td>B1000</td>\n",
       "      <td>DE</td>\n",
       "      <td>2014</td>\n",
       "      <td>1128.00</td>\n",
       "      <td>NaN</td>\n",
       "    </tr>\n",
       "  </tbody>\n",
       "</table>\n",
       "</div>"
      ],
      "text/plain": [
       "              DATAFLOW        LAST UPDATE freq   unit meatitem   meat geo  \\\n",
       "0  ESTAT:TAG00044(1.0)  24/10/22 23:00:00    A  THS_T       SL  B1000  DE   \n",
       "1  ESTAT:TAG00044(1.0)  24/10/22 23:00:00    A  THS_T       SL  B1000  DE   \n",
       "2  ESTAT:TAG00044(1.0)  24/10/22 23:00:00    A  THS_T       SL  B1000  DE   \n",
       "3  ESTAT:TAG00044(1.0)  24/10/22 23:00:00    A  THS_T       SL  B1000  DE   \n",
       "4  ESTAT:TAG00044(1.0)  24/10/22 23:00:00    A  THS_T       SL  B1000  DE   \n",
       "\n",
       "   TIME_PERIOD  OBS_VALUE OBS_FLAG  \n",
       "0         2010    1186.72      NaN  \n",
       "1         2011    1159.00      NaN  \n",
       "2         2012    1140.00      NaN  \n",
       "3         2013    1106.00      NaN  \n",
       "4         2014    1128.00      NaN  "
      ]
     },
     "execution_count": 57,
     "metadata": {},
     "output_type": "execute_result"
    }
   ],
   "source": [
    "Bovine_Meat_No.head()"
   ]
  },
  {
   "cell_type": "code",
   "execution_count": 75,
   "id": "d6a73bc2",
   "metadata": {},
   "outputs": [],
   "source": [
    "def needed_columns(df, columns):\n",
    "  return df.loc[:, columns]"
   ]
  },
  {
   "cell_type": "code",
   "execution_count": 79,
   "id": "e3d91451",
   "metadata": {},
   "outputs": [],
   "source": [
    "\n",
    "Dairy_Milk_Prices = needed_columns(Dairy_Milk_Prices, ['geo','TIME_PERIOD','OBS_VALUE'])\n",
    "Dairy_Cow_Numbers = needed_columns(Dairy_Cow_Numbers, ['geo','TIME_PERIOD','OBS_VALUE'])\n",
    "\n",
    "Bovine_Numbers = needed_columns(Bovine_Numbers, ['geo','TIME_PERIOD','OBS_VALUE'])\n",
    "Bovine_Meat_No = needed_columns(Bovine_Meat_No, ['geo','TIME_PERIOD','OBS_VALUE'])"
   ]
  },
  {
   "cell_type": "code",
   "execution_count": 80,
   "id": "bc794975",
   "metadata": {},
   "outputs": [
    {
     "data": {
      "text/html": [
       "<div>\n",
       "<style scoped>\n",
       "    .dataframe tbody tr th:only-of-type {\n",
       "        vertical-align: middle;\n",
       "    }\n",
       "\n",
       "    .dataframe tbody tr th {\n",
       "        vertical-align: top;\n",
       "    }\n",
       "\n",
       "    .dataframe thead th {\n",
       "        text-align: right;\n",
       "    }\n",
       "</style>\n",
       "<table border=\"1\" class=\"dataframe\">\n",
       "  <thead>\n",
       "    <tr style=\"text-align: right;\">\n",
       "      <th></th>\n",
       "      <th>geo</th>\n",
       "      <th>TIME_PERIOD</th>\n",
       "      <th>OBS_VALUE</th>\n",
       "    </tr>\n",
       "  </thead>\n",
       "  <tbody>\n",
       "    <tr>\n",
       "      <th>0</th>\n",
       "      <td>DE</td>\n",
       "      <td>2010</td>\n",
       "      <td>1186.72</td>\n",
       "    </tr>\n",
       "    <tr>\n",
       "      <th>1</th>\n",
       "      <td>DE</td>\n",
       "      <td>2011</td>\n",
       "      <td>1159.00</td>\n",
       "    </tr>\n",
       "    <tr>\n",
       "      <th>2</th>\n",
       "      <td>DE</td>\n",
       "      <td>2012</td>\n",
       "      <td>1140.00</td>\n",
       "    </tr>\n",
       "    <tr>\n",
       "      <th>3</th>\n",
       "      <td>DE</td>\n",
       "      <td>2013</td>\n",
       "      <td>1106.00</td>\n",
       "    </tr>\n",
       "    <tr>\n",
       "      <th>4</th>\n",
       "      <td>DE</td>\n",
       "      <td>2014</td>\n",
       "      <td>1128.00</td>\n",
       "    </tr>\n",
       "  </tbody>\n",
       "</table>\n",
       "</div>"
      ],
      "text/plain": [
       "  geo  TIME_PERIOD  OBS_VALUE\n",
       "0  DE         2010    1186.72\n",
       "1  DE         2011    1159.00\n",
       "2  DE         2012    1140.00\n",
       "3  DE         2013    1106.00\n",
       "4  DE         2014    1128.00"
      ]
     },
     "execution_count": 80,
     "metadata": {},
     "output_type": "execute_result"
    }
   ],
   "source": [
    "Bovine_Meat_No.head()"
   ]
  },
  {
   "cell_type": "code",
   "execution_count": 81,
   "id": "2a16a8bb",
   "metadata": {},
   "outputs": [
    {
     "name": "stdout",
     "output_type": "stream",
     "text": [
      "No NaN's found, these columns are usable\n"
     ]
    }
   ],
   "source": [
    "contain_nans = Dairy_Milk_Prices[['geo', 'TIME_PERIOD', 'OBS_VALUE']].isnull().any()\n",
    "# if statement to check if any NaN's are present\n",
    "if contain_nans.any():\n",
    "    print(\"One of these columns contains NaN's\")\n",
    "else:\n",
    "    print(\"No NaN's found, these columns are usable\")"
   ]
  },
  {
   "cell_type": "code",
   "execution_count": 82,
   "id": "fe3f9509",
   "metadata": {},
   "outputs": [
    {
     "name": "stdout",
     "output_type": "stream",
     "text": [
      "No NaN's found, these columns are usable\n"
     ]
    }
   ],
   "source": [
    "\n",
    "contain_nans = Dairy_Cow_Numbers[['geo', 'TIME_PERIOD', 'OBS_VALUE']].isnull().any()\n",
    "# if statement to check if any NaN's are present\n",
    "if contain_nans.any():\n",
    "    print(\"One of these columns contains NaN's\")\n",
    "else:\n",
    "    print(\"No NaN's found, these columns are usable\")"
   ]
  },
  {
   "cell_type": "code",
   "execution_count": 83,
   "id": "c530237a",
   "metadata": {},
   "outputs": [
    {
     "name": "stdout",
     "output_type": "stream",
     "text": [
      "No NaN's found, these columns are usable\n"
     ]
    }
   ],
   "source": [
    "\n",
    "contain_nans = Bovine_Numbers[['geo', 'TIME_PERIOD', 'OBS_VALUE']].isnull().any()\n",
    "# if statement to check if any NaN's are present\n",
    "if contain_nans.any():\n",
    "    print(\"One of these columns contains NaN's\")\n",
    "else:\n",
    "    print(\"No NaN's found, these columns are usable\")"
   ]
  },
  {
   "cell_type": "code",
   "execution_count": 84,
   "id": "60ee239a",
   "metadata": {},
   "outputs": [
    {
     "name": "stdout",
     "output_type": "stream",
     "text": [
      "No NaN's found, these columns are usable\n"
     ]
    }
   ],
   "source": [
    "contain_nans = Bovine_Meat_No[['geo', 'TIME_PERIOD', 'OBS_VALUE']].isnull().any()\n",
    "# if statement to check if any NaN's are present\n",
    "if contain_nans.any():\n",
    "    print(\"One of these columns contains NaN's\")\n",
    "else:\n",
    "    print(\"No NaN's found, these columns are usable\")"
   ]
  },
  {
   "cell_type": "code",
   "execution_count": 87,
   "id": "8d1f2b55",
   "metadata": {},
   "outputs": [],
   "source": [
    "# List of Agriculture DF's\n",
    "agg_dataframes = [Dairy_Milk_Prices,Dairy_Cow_Numbers,Bovine_Numbers,Bovine_Meat_No]\n",
    "\n",
    "#Loop through the agg dataframes and rename the columns\n",
    "for df in agg_dataframes:\n",
    "    df.rename(columns={'geo': 'CountryCode','TIME_PERIOD' : 'Year'}, inplace=True)"
   ]
  },
  {
   "cell_type": "code",
   "execution_count": 88,
   "id": "c8159235",
   "metadata": {},
   "outputs": [
    {
     "data": {
      "text/html": [
       "<div>\n",
       "<style scoped>\n",
       "    .dataframe tbody tr th:only-of-type {\n",
       "        vertical-align: middle;\n",
       "    }\n",
       "\n",
       "    .dataframe tbody tr th {\n",
       "        vertical-align: top;\n",
       "    }\n",
       "\n",
       "    .dataframe thead th {\n",
       "        text-align: right;\n",
       "    }\n",
       "</style>\n",
       "<table border=\"1\" class=\"dataframe\">\n",
       "  <thead>\n",
       "    <tr style=\"text-align: right;\">\n",
       "      <th></th>\n",
       "      <th>CountryCode</th>\n",
       "      <th>Year</th>\n",
       "      <th>OBS_VALUE</th>\n",
       "    </tr>\n",
       "  </thead>\n",
       "  <tbody>\n",
       "    <tr>\n",
       "      <th>0</th>\n",
       "      <td>DE</td>\n",
       "      <td>2010</td>\n",
       "      <td>1186.72</td>\n",
       "    </tr>\n",
       "    <tr>\n",
       "      <th>1</th>\n",
       "      <td>DE</td>\n",
       "      <td>2011</td>\n",
       "      <td>1159.00</td>\n",
       "    </tr>\n",
       "    <tr>\n",
       "      <th>2</th>\n",
       "      <td>DE</td>\n",
       "      <td>2012</td>\n",
       "      <td>1140.00</td>\n",
       "    </tr>\n",
       "    <tr>\n",
       "      <th>3</th>\n",
       "      <td>DE</td>\n",
       "      <td>2013</td>\n",
       "      <td>1106.00</td>\n",
       "    </tr>\n",
       "    <tr>\n",
       "      <th>4</th>\n",
       "      <td>DE</td>\n",
       "      <td>2014</td>\n",
       "      <td>1128.00</td>\n",
       "    </tr>\n",
       "  </tbody>\n",
       "</table>\n",
       "</div>"
      ],
      "text/plain": [
       "  CountryCode  Year  OBS_VALUE\n",
       "0          DE  2010    1186.72\n",
       "1          DE  2011    1159.00\n",
       "2          DE  2012    1140.00\n",
       "3          DE  2013    1106.00\n",
       "4          DE  2014    1128.00"
      ]
     },
     "execution_count": 88,
     "metadata": {},
     "output_type": "execute_result"
    }
   ],
   "source": [
    "Bovine_Meat_No.head()"
   ]
  },
  {
   "cell_type": "markdown",
   "id": "6199b3db",
   "metadata": {},
   "source": [
    "All 4 Agriculture dataframes all now have matching columns, however each one has a different value, some are prices and some are populations.\n",
    "Lets rename for easier reading going forward"
   ]
  },
  {
   "cell_type": "markdown",
   "id": "7a8c3cfb",
   "metadata": {},
   "source": [
    "<span style=\"color:green\">Dairy_Milk_Prices contains price per 100KG for cows milk . It is in Euro </span>\n",
    "\n",
    "<span style=\"color:red\">Dairy_Cow_Numbers are the number of dairy cows ( Count is 1000 heads)</span>\n",
    "\n",
    "<span style=\"color:blue\">Bovine_Numbers is the total number of Bovine animals (Count is 1000 heads)</span>\n",
    "\n",
    "<span style=\"color:orange\">Bovine_Meat_No is  carcass weight of bovine animals (calves, bullocks, bulls, heifers and cows) meat which is suitable for human consumption. Count is 1000 Tonnes.</span>\n"
   ]
  },
  {
   "cell_type": "markdown",
   "id": "665950ff",
   "metadata": {},
   "source": [
    "\n",
    "\n",
    "\n",
    "As all 4 dataframes for Agriculture are different, now lets tidy each one up before moving on.\n",
    "\n",
    "\n"
   ]
  },
  {
   "cell_type": "code",
   "execution_count": 90,
   "id": "56518736",
   "metadata": {},
   "outputs": [],
   "source": [
    "Dairy_Milk_Prices.rename(columns = {'OBS_VALUE':'MilkPrice (Per 100 KG €)'}, inplace = True)"
   ]
  },
  {
   "cell_type": "code",
   "execution_count": 93,
   "id": "649ecc44",
   "metadata": {},
   "outputs": [],
   "source": [
    "Dairy_Cow_Numbers.rename(columns = {'OBS_VALUE':'DairyCowPopulation'}, inplace = True)"
   ]
  },
  {
   "cell_type": "code",
   "execution_count": 96,
   "id": "cd5f912e",
   "metadata": {},
   "outputs": [],
   "source": [
    "Bovine_Numbers.rename(columns = {'OBS_VALUE':'BovinePopulation'}, inplace = True)"
   ]
  },
  {
   "cell_type": "code",
   "execution_count": 98,
   "id": "49c515b0",
   "metadata": {},
   "outputs": [],
   "source": [
    "Bovine_Meat_No.rename(columns = {'OBS_VALUE':'BovineMeatWeight(Tonnes)'}, inplace = True)"
   ]
  },
  {
   "cell_type": "markdown",
   "id": "6c297970",
   "metadata": {},
   "source": [
    "Below Im using the the apply function with a lambda function to multiply each of the defined columns by 1000. This way I am using the excat figure for each of the values."
   ]
  },
  {
   "cell_type": "code",
   "execution_count": 100,
   "id": "ddf7cbcd",
   "metadata": {},
   "outputs": [],
   "source": [
    "Dairy_Cow_Numbers['DairyCowPopulation'] = Dairy_Cow_Numbers.apply(lambda row: row['DairyCowPopulation'] * 1000, axis=1)"
   ]
  },
  {
   "cell_type": "code",
   "execution_count": 102,
   "id": "6145dd70",
   "metadata": {},
   "outputs": [],
   "source": [
    "Bovine_Numbers['BovinePopulation'] = Bovine_Numbers.apply(lambda row: row['BovinePopulation'] * 1000, axis=1)"
   ]
  },
  {
   "cell_type": "code",
   "execution_count": 103,
   "id": "6b582d35",
   "metadata": {},
   "outputs": [],
   "source": [
    "Bovine_Meat_No['BovineMeatWeight(Tonnes)'] = Bovine_Meat_No.apply(lambda row: row['BovineMeatWeight(Tonnes)'] * 1000, axis=1)"
   ]
  },
  {
   "cell_type": "markdown",
   "id": "69e56eb1",
   "metadata": {},
   "source": [
    "Now lets check what datatype each value is before we move forward."
   ]
  },
  {
   "cell_type": "code",
   "execution_count": 110,
   "id": "6ec94595",
   "metadata": {},
   "outputs": [
    {
     "data": {
      "text/plain": [
       "CountryCode                  object\n",
       "Year                          int64\n",
       "BovineMeatWeight(Tonnes)    float64\n",
       "dtype: object"
      ]
     },
     "execution_count": 110,
     "metadata": {},
     "output_type": "execute_result"
    }
   ],
   "source": [
    "Dairy_Milk_Prices.dtypes\n",
    "Dairy_Cow_Numbers.dtypes\n",
    "Bovine_Meat_No.dtypes"
   ]
  },
  {
   "cell_type": "markdown",
   "id": "59046925",
   "metadata": {},
   "source": [
    "There are 2 conversions to do for the population data. These are currently in the correct datatype, float64, but are not rounded to 0 decimal points.\n",
    "Lets achive this by rounding them. The other data seems to be in correct dataypes"
   ]
  },
  {
   "cell_type": "markdown",
   "id": "deebc233",
   "metadata": {},
   "source": [
    "As this is a count data, I can also convert it to type 'integer' so we can remove the decimal point entirely."
   ]
  },
  {
   "cell_type": "code",
   "execution_count": 114,
   "id": "47010344",
   "metadata": {},
   "outputs": [],
   "source": [
    "Dairy_Cow_Numbers['DairyCowPopulation'] = Dairy_Cow_Numbers['DairyCowPopulation'].apply(round, ndigits=0).astype(int)\n",
    "\n",
    "Bovine_Numbers['BovinePopulation'] = Bovine_Numbers['BovinePopulation'].apply(round, ndigits=0).astype(int)"
   ]
  },
  {
   "cell_type": "code",
   "execution_count": 115,
   "id": "bafdef15",
   "metadata": {},
   "outputs": [
    {
     "data": {
      "text/html": [
       "<div>\n",
       "<style scoped>\n",
       "    .dataframe tbody tr th:only-of-type {\n",
       "        vertical-align: middle;\n",
       "    }\n",
       "\n",
       "    .dataframe tbody tr th {\n",
       "        vertical-align: top;\n",
       "    }\n",
       "\n",
       "    .dataframe thead th {\n",
       "        text-align: right;\n",
       "    }\n",
       "</style>\n",
       "<table border=\"1\" class=\"dataframe\">\n",
       "  <thead>\n",
       "    <tr style=\"text-align: right;\">\n",
       "      <th></th>\n",
       "      <th>CountryCode</th>\n",
       "      <th>Year</th>\n",
       "      <th>DairyCowPopulation</th>\n",
       "    </tr>\n",
       "  </thead>\n",
       "  <tbody>\n",
       "    <tr>\n",
       "      <th>0</th>\n",
       "      <td>DE</td>\n",
       "      <td>2010</td>\n",
       "      <td>4181680</td>\n",
       "    </tr>\n",
       "    <tr>\n",
       "      <th>1</th>\n",
       "      <td>DE</td>\n",
       "      <td>2011</td>\n",
       "      <td>4190100</td>\n",
       "    </tr>\n",
       "    <tr>\n",
       "      <th>2</th>\n",
       "      <td>DE</td>\n",
       "      <td>2012</td>\n",
       "      <td>4190490</td>\n",
       "    </tr>\n",
       "    <tr>\n",
       "      <th>3</th>\n",
       "      <td>DE</td>\n",
       "      <td>2013</td>\n",
       "      <td>4267610</td>\n",
       "    </tr>\n",
       "    <tr>\n",
       "      <th>4</th>\n",
       "      <td>DE</td>\n",
       "      <td>2014</td>\n",
       "      <td>4295680</td>\n",
       "    </tr>\n",
       "  </tbody>\n",
       "</table>\n",
       "</div>"
      ],
      "text/plain": [
       "  CountryCode  Year  DairyCowPopulation\n",
       "0          DE  2010             4181680\n",
       "1          DE  2011             4190100\n",
       "2          DE  2012             4190490\n",
       "3          DE  2013             4267610\n",
       "4          DE  2014             4295680"
      ]
     },
     "execution_count": 115,
     "metadata": {},
     "output_type": "execute_result"
    }
   ],
   "source": [
    "#Now checking round has been successful\n",
    "Dairy_Cow_Numbers.head()\n",
    "#Bovine_Numbers.head()"
   ]
  },
  {
   "cell_type": "markdown",
   "id": "25021251",
   "metadata": {},
   "source": [
    "Now the population counts are not showing any decimal points."
   ]
  },
  {
   "cell_type": "markdown",
   "id": "5f96df4f",
   "metadata": {},
   "source": [
    "Now we have 5 dataframes which we now want to merge into 3 Country specific dataframes. Ireland, Germany and Spain\n",
    "\n",
    "I am going to iterate through all the datframes I have , and use a for loop to append based on country codes to 3 new dataframes."
   ]
  },
  {
   "cell_type": "markdown",
   "id": "484c2c40",
   "metadata": {},
   "source": [
    "Firstly, my 8 dataframes are as follows:\n",
    "\n",
    "<span style=\"color:green\">Dairy_Milk_Prices</span>\n",
    "\n",
    "<span style=\"color:red\">Dairy_Cow_Numbers</span>\n",
    "\n",
    "<span style=\"color:blue\">Bovine_Numbers</span>\n",
    "\n",
    "<span style=\"color:orange\">Bovine_Meat_No</span>\n"
   ]
  },
  {
   "cell_type": "code",
   "execution_count": 176,
   "id": "5825de83",
   "metadata": {},
   "outputs": [],
   "source": [
    "from functools import reduce\n",
    "\n",
    "merged_df = reduce(lambda x,y: pd.merge(x,y, left_on=['CountryCode', 'Year'], right_on=['CountryCode', 'Year'], how='outer', suffixes=('_left', '_right')), [Dairy_Milk_Prices,Dairy_Cow_Numbers,Bovine_Numbers,Bovine_Meat_No])"
   ]
  },
  {
   "cell_type": "code",
   "execution_count": 180,
   "id": "fe58df88",
   "metadata": {},
   "outputs": [
    {
     "data": {
      "text/plain": [
       "CountryCode                  object\n",
       "Year                          int64\n",
       "MilkPrice (Per 100 KG €)    float64\n",
       "DairyCowPopulation            int64\n",
       "BovinePopulation              int64\n",
       "BovineMeatWeight(Tonnes)      int64\n",
       "dtype: object"
      ]
     },
     "execution_count": 180,
     "metadata": {},
     "output_type": "execute_result"
    }
   ],
   "source": [
    "merged_df.dtypes\n",
    "#merged_df['BovineMeatWeight(Tonnes)'] = merged_df['BovineMeatWeight(Tonnes)'].apply(round, ndigits=0).astype(int)"
   ]
  },
  {
   "cell_type": "code",
   "execution_count": 183,
   "id": "b0b8a0d1",
   "metadata": {},
   "outputs": [
    {
     "data": {
      "text/html": [
       "<div>\n",
       "<style scoped>\n",
       "    .dataframe tbody tr th:only-of-type {\n",
       "        vertical-align: middle;\n",
       "    }\n",
       "\n",
       "    .dataframe tbody tr th {\n",
       "        vertical-align: top;\n",
       "    }\n",
       "\n",
       "    .dataframe thead th {\n",
       "        text-align: right;\n",
       "    }\n",
       "</style>\n",
       "<table border=\"1\" class=\"dataframe\">\n",
       "  <thead>\n",
       "    <tr style=\"text-align: right;\">\n",
       "      <th></th>\n",
       "      <th>CountryCode</th>\n",
       "      <th>Year</th>\n",
       "      <th>MilkPrice (Per 100 KG €)</th>\n",
       "      <th>DairyCowPopulation</th>\n",
       "      <th>BovinePopulation</th>\n",
       "      <th>BovineMeatWeight(Tonnes)</th>\n",
       "    </tr>\n",
       "  </thead>\n",
       "  <tbody>\n",
       "    <tr>\n",
       "      <th>0</th>\n",
       "      <td>DE</td>\n",
       "      <td>2010</td>\n",
       "      <td>31.23</td>\n",
       "      <td>4181680</td>\n",
       "      <td>12706230</td>\n",
       "      <td>1186720</td>\n",
       "    </tr>\n",
       "    <tr>\n",
       "      <th>1</th>\n",
       "      <td>DE</td>\n",
       "      <td>2011</td>\n",
       "      <td>35.19</td>\n",
       "      <td>4190100</td>\n",
       "      <td>12527840</td>\n",
       "      <td>1159000</td>\n",
       "    </tr>\n",
       "    <tr>\n",
       "      <th>2</th>\n",
       "      <td>DE</td>\n",
       "      <td>2012</td>\n",
       "      <td>32.39</td>\n",
       "      <td>4190490</td>\n",
       "      <td>12506770</td>\n",
       "      <td>1140000</td>\n",
       "    </tr>\n",
       "    <tr>\n",
       "      <th>3</th>\n",
       "      <td>DE</td>\n",
       "      <td>2013</td>\n",
       "      <td>38.05</td>\n",
       "      <td>4267610</td>\n",
       "      <td>12685990</td>\n",
       "      <td>1106000</td>\n",
       "    </tr>\n",
       "    <tr>\n",
       "      <th>4</th>\n",
       "      <td>DE</td>\n",
       "      <td>2014</td>\n",
       "      <td>37.85</td>\n",
       "      <td>4295680</td>\n",
       "      <td>12742190</td>\n",
       "      <td>1128000</td>\n",
       "    </tr>\n",
       "    <tr>\n",
       "      <th>5</th>\n",
       "      <td>DE</td>\n",
       "      <td>2015</td>\n",
       "      <td>29.59</td>\n",
       "      <td>4284640</td>\n",
       "      <td>12635460</td>\n",
       "      <td>1124000</td>\n",
       "    </tr>\n",
       "    <tr>\n",
       "      <th>6</th>\n",
       "      <td>DE</td>\n",
       "      <td>2016</td>\n",
       "      <td>27.20</td>\n",
       "      <td>4217700</td>\n",
       "      <td>12466590</td>\n",
       "      <td>1148000</td>\n",
       "    </tr>\n",
       "    <tr>\n",
       "      <th>7</th>\n",
       "      <td>DE</td>\n",
       "      <td>2017</td>\n",
       "      <td>35.10</td>\n",
       "      <td>4199010</td>\n",
       "      <td>12281200</td>\n",
       "      <td>1124000</td>\n",
       "    </tr>\n",
       "    <tr>\n",
       "      <th>8</th>\n",
       "      <td>DE</td>\n",
       "      <td>2018</td>\n",
       "      <td>34.72</td>\n",
       "      <td>4100860</td>\n",
       "      <td>11949090</td>\n",
       "      <td>1102000</td>\n",
       "    </tr>\n",
       "    <tr>\n",
       "      <th>9</th>\n",
       "      <td>DE</td>\n",
       "      <td>2019</td>\n",
       "      <td>33.70</td>\n",
       "      <td>4011670</td>\n",
       "      <td>11639530</td>\n",
       "      <td>1106000</td>\n",
       "    </tr>\n",
       "    <tr>\n",
       "      <th>10</th>\n",
       "      <td>DE</td>\n",
       "      <td>2020</td>\n",
       "      <td>33.56</td>\n",
       "      <td>3921410</td>\n",
       "      <td>11301860</td>\n",
       "      <td>1090000</td>\n",
       "    </tr>\n",
       "    <tr>\n",
       "      <th>11</th>\n",
       "      <td>DE</td>\n",
       "      <td>2021</td>\n",
       "      <td>36.40</td>\n",
       "      <td>3832720</td>\n",
       "      <td>11039660</td>\n",
       "      <td>1072020</td>\n",
       "    </tr>\n",
       "    <tr>\n",
       "      <th>12</th>\n",
       "      <td>ES</td>\n",
       "      <td>2010</td>\n",
       "      <td>29.56</td>\n",
       "      <td>845290</td>\n",
       "      <td>6075080</td>\n",
       "      <td>606590</td>\n",
       "    </tr>\n",
       "    <tr>\n",
       "      <th>13</th>\n",
       "      <td>ES</td>\n",
       "      <td>2011</td>\n",
       "      <td>30.87</td>\n",
       "      <td>797890</td>\n",
       "      <td>5923110</td>\n",
       "      <td>604110</td>\n",
       "    </tr>\n",
       "    <tr>\n",
       "      <th>14</th>\n",
       "      <td>ES</td>\n",
       "      <td>2012</td>\n",
       "      <td>30.40</td>\n",
       "      <td>827210</td>\n",
       "      <td>5812610</td>\n",
       "      <td>591380</td>\n",
       "    </tr>\n",
       "    <tr>\n",
       "      <th>15</th>\n",
       "      <td>ES</td>\n",
       "      <td>2013</td>\n",
       "      <td>33.83</td>\n",
       "      <td>844060</td>\n",
       "      <td>5802220</td>\n",
       "      <td>580840</td>\n",
       "    </tr>\n",
       "    <tr>\n",
       "      <th>16</th>\n",
       "      <td>ES</td>\n",
       "      <td>2014</td>\n",
       "      <td>35.38</td>\n",
       "      <td>844790</td>\n",
       "      <td>6078730</td>\n",
       "      <td>578600</td>\n",
       "    </tr>\n",
       "    <tr>\n",
       "      <th>17</th>\n",
       "      <td>ES</td>\n",
       "      <td>2015</td>\n",
       "      <td>31.37</td>\n",
       "      <td>844110</td>\n",
       "      <td>6182910</td>\n",
       "      <td>626100</td>\n",
       "    </tr>\n",
       "    <tr>\n",
       "      <th>18</th>\n",
       "      <td>ES</td>\n",
       "      <td>2016</td>\n",
       "      <td>29.12</td>\n",
       "      <td>834450</td>\n",
       "      <td>6317640</td>\n",
       "      <td>637010</td>\n",
       "    </tr>\n",
       "    <tr>\n",
       "      <th>19</th>\n",
       "      <td>ES</td>\n",
       "      <td>2017</td>\n",
       "      <td>30.95</td>\n",
       "      <td>823390</td>\n",
       "      <td>6465750</td>\n",
       "      <td>643860</td>\n",
       "    </tr>\n",
       "    <tr>\n",
       "      <th>20</th>\n",
       "      <td>ES</td>\n",
       "      <td>2018</td>\n",
       "      <td>31.23</td>\n",
       "      <td>816690</td>\n",
       "      <td>6510590</td>\n",
       "      <td>669010</td>\n",
       "    </tr>\n",
       "    <tr>\n",
       "      <th>21</th>\n",
       "      <td>ES</td>\n",
       "      <td>2019</td>\n",
       "      <td>31.85</td>\n",
       "      <td>812870</td>\n",
       "      <td>6600330</td>\n",
       "      <td>695170</td>\n",
       "    </tr>\n",
       "    <tr>\n",
       "      <th>22</th>\n",
       "      <td>ES</td>\n",
       "      <td>2020</td>\n",
       "      <td>32.27</td>\n",
       "      <td>810740</td>\n",
       "      <td>6636430</td>\n",
       "      <td>677740</td>\n",
       "    </tr>\n",
       "    <tr>\n",
       "      <th>23</th>\n",
       "      <td>ES</td>\n",
       "      <td>2021</td>\n",
       "      <td>33.26</td>\n",
       "      <td>808860</td>\n",
       "      <td>6576300</td>\n",
       "      <td>717880</td>\n",
       "    </tr>\n",
       "    <tr>\n",
       "      <th>24</th>\n",
       "      <td>IE</td>\n",
       "      <td>2010</td>\n",
       "      <td>28.15</td>\n",
       "      <td>1006900</td>\n",
       "      <td>5917700</td>\n",
       "      <td>559000</td>\n",
       "    </tr>\n",
       "    <tr>\n",
       "      <th>25</th>\n",
       "      <td>IE</td>\n",
       "      <td>2011</td>\n",
       "      <td>33.55</td>\n",
       "      <td>1035640</td>\n",
       "      <td>5925320</td>\n",
       "      <td>546760</td>\n",
       "    </tr>\n",
       "    <tr>\n",
       "      <th>26</th>\n",
       "      <td>IE</td>\n",
       "      <td>2012</td>\n",
       "      <td>30.83</td>\n",
       "      <td>1060260</td>\n",
       "      <td>6253240</td>\n",
       "      <td>495400</td>\n",
       "    </tr>\n",
       "    <tr>\n",
       "      <th>27</th>\n",
       "      <td>IE</td>\n",
       "      <td>2013</td>\n",
       "      <td>37.76</td>\n",
       "      <td>1082460</td>\n",
       "      <td>6309050</td>\n",
       "      <td>517570</td>\n",
       "    </tr>\n",
       "    <tr>\n",
       "      <th>28</th>\n",
       "      <td>IE</td>\n",
       "      <td>2014</td>\n",
       "      <td>36.42</td>\n",
       "      <td>1127720</td>\n",
       "      <td>6243050</td>\n",
       "      <td>581810</td>\n",
       "    </tr>\n",
       "    <tr>\n",
       "      <th>29</th>\n",
       "      <td>IE</td>\n",
       "      <td>2015</td>\n",
       "      <td>28.64</td>\n",
       "      <td>1239890</td>\n",
       "      <td>6422230</td>\n",
       "      <td>564140</td>\n",
       "    </tr>\n",
       "    <tr>\n",
       "      <th>30</th>\n",
       "      <td>IE</td>\n",
       "      <td>2016</td>\n",
       "      <td>27.25</td>\n",
       "      <td>1295230</td>\n",
       "      <td>6613430</td>\n",
       "      <td>588360</td>\n",
       "    </tr>\n",
       "    <tr>\n",
       "      <th>31</th>\n",
       "      <td>IE</td>\n",
       "      <td>2017</td>\n",
       "      <td>36.31</td>\n",
       "      <td>1343300</td>\n",
       "      <td>6673590</td>\n",
       "      <td>617020</td>\n",
       "    </tr>\n",
       "    <tr>\n",
       "      <th>32</th>\n",
       "      <td>IE</td>\n",
       "      <td>2018</td>\n",
       "      <td>33.87</td>\n",
       "      <td>1369100</td>\n",
       "      <td>6593490</td>\n",
       "      <td>622540</td>\n",
       "    </tr>\n",
       "    <tr>\n",
       "      <th>33</th>\n",
       "      <td>IE</td>\n",
       "      <td>2019</td>\n",
       "      <td>32.53</td>\n",
       "      <td>1425760</td>\n",
       "      <td>6559650</td>\n",
       "      <td>619800</td>\n",
       "    </tr>\n",
       "    <tr>\n",
       "      <th>34</th>\n",
       "      <td>IE</td>\n",
       "      <td>2020</td>\n",
       "      <td>33.03</td>\n",
       "      <td>1456050</td>\n",
       "      <td>6529440</td>\n",
       "      <td>633380</td>\n",
       "    </tr>\n",
       "    <tr>\n",
       "      <th>35</th>\n",
       "      <td>IE</td>\n",
       "      <td>2021</td>\n",
       "      <td>38.31</td>\n",
       "      <td>1505270</td>\n",
       "      <td>6649310</td>\n",
       "      <td>594510</td>\n",
       "    </tr>\n",
       "  </tbody>\n",
       "</table>\n",
       "</div>"
      ],
      "text/plain": [
       "   CountryCode  Year  MilkPrice (Per 100 KG €)  DairyCowPopulation  \\\n",
       "0           DE  2010                     31.23             4181680   \n",
       "1           DE  2011                     35.19             4190100   \n",
       "2           DE  2012                     32.39             4190490   \n",
       "3           DE  2013                     38.05             4267610   \n",
       "4           DE  2014                     37.85             4295680   \n",
       "5           DE  2015                     29.59             4284640   \n",
       "6           DE  2016                     27.20             4217700   \n",
       "7           DE  2017                     35.10             4199010   \n",
       "8           DE  2018                     34.72             4100860   \n",
       "9           DE  2019                     33.70             4011670   \n",
       "10          DE  2020                     33.56             3921410   \n",
       "11          DE  2021                     36.40             3832720   \n",
       "12          ES  2010                     29.56              845290   \n",
       "13          ES  2011                     30.87              797890   \n",
       "14          ES  2012                     30.40              827210   \n",
       "15          ES  2013                     33.83              844060   \n",
       "16          ES  2014                     35.38              844790   \n",
       "17          ES  2015                     31.37              844110   \n",
       "18          ES  2016                     29.12              834450   \n",
       "19          ES  2017                     30.95              823390   \n",
       "20          ES  2018                     31.23              816690   \n",
       "21          ES  2019                     31.85              812870   \n",
       "22          ES  2020                     32.27              810740   \n",
       "23          ES  2021                     33.26              808860   \n",
       "24          IE  2010                     28.15             1006900   \n",
       "25          IE  2011                     33.55             1035640   \n",
       "26          IE  2012                     30.83             1060260   \n",
       "27          IE  2013                     37.76             1082460   \n",
       "28          IE  2014                     36.42             1127720   \n",
       "29          IE  2015                     28.64             1239890   \n",
       "30          IE  2016                     27.25             1295230   \n",
       "31          IE  2017                     36.31             1343300   \n",
       "32          IE  2018                     33.87             1369100   \n",
       "33          IE  2019                     32.53             1425760   \n",
       "34          IE  2020                     33.03             1456050   \n",
       "35          IE  2021                     38.31             1505270   \n",
       "\n",
       "    BovinePopulation  BovineMeatWeight(Tonnes)  \n",
       "0           12706230                   1186720  \n",
       "1           12527840                   1159000  \n",
       "2           12506770                   1140000  \n",
       "3           12685990                   1106000  \n",
       "4           12742190                   1128000  \n",
       "5           12635460                   1124000  \n",
       "6           12466590                   1148000  \n",
       "7           12281200                   1124000  \n",
       "8           11949090                   1102000  \n",
       "9           11639530                   1106000  \n",
       "10          11301860                   1090000  \n",
       "11          11039660                   1072020  \n",
       "12           6075080                    606590  \n",
       "13           5923110                    604110  \n",
       "14           5812610                    591380  \n",
       "15           5802220                    580840  \n",
       "16           6078730                    578600  \n",
       "17           6182910                    626100  \n",
       "18           6317640                    637010  \n",
       "19           6465750                    643860  \n",
       "20           6510590                    669010  \n",
       "21           6600330                    695170  \n",
       "22           6636430                    677740  \n",
       "23           6576300                    717880  \n",
       "24           5917700                    559000  \n",
       "25           5925320                    546760  \n",
       "26           6253240                    495400  \n",
       "27           6309050                    517570  \n",
       "28           6243050                    581810  \n",
       "29           6422230                    564140  \n",
       "30           6613430                    588360  \n",
       "31           6673590                    617020  \n",
       "32           6593490                    622540  \n",
       "33           6559650                    619800  \n",
       "34           6529440                    633380  \n",
       "35           6649310                    594510  "
      ]
     },
     "execution_count": 183,
     "metadata": {},
     "output_type": "execute_result"
    }
   ],
   "source": [
    "merged_df.head(100)"
   ]
  },
  {
   "cell_type": "code",
   "execution_count": 184,
   "id": "b9166a01",
   "metadata": {},
   "outputs": [],
   "source": [
    "df_ireland = merged_df.loc[merged_df['CountryCode'] =='IE']\n",
    "df_germany = merged_df.loc[merged_df['CountryCode'] =='DE']\n",
    "df_spain = merged_df.loc[merged_df['CountryCode'] =='ES']"
   ]
  },
  {
   "cell_type": "code",
   "execution_count": 185,
   "id": "c41b69aa",
   "metadata": {},
   "outputs": [
    {
     "data": {
      "text/html": [
       "<div>\n",
       "<style scoped>\n",
       "    .dataframe tbody tr th:only-of-type {\n",
       "        vertical-align: middle;\n",
       "    }\n",
       "\n",
       "    .dataframe tbody tr th {\n",
       "        vertical-align: top;\n",
       "    }\n",
       "\n",
       "    .dataframe thead th {\n",
       "        text-align: right;\n",
       "    }\n",
       "</style>\n",
       "<table border=\"1\" class=\"dataframe\">\n",
       "  <thead>\n",
       "    <tr style=\"text-align: right;\">\n",
       "      <th></th>\n",
       "      <th>CountryCode</th>\n",
       "      <th>Year</th>\n",
       "      <th>MilkPrice (Per 100 KG €)</th>\n",
       "      <th>DairyCowPopulation</th>\n",
       "      <th>BovinePopulation</th>\n",
       "      <th>BovineMeatWeight(Tonnes)</th>\n",
       "    </tr>\n",
       "  </thead>\n",
       "  <tbody>\n",
       "    <tr>\n",
       "      <th>24</th>\n",
       "      <td>IE</td>\n",
       "      <td>2010</td>\n",
       "      <td>28.15</td>\n",
       "      <td>1006900</td>\n",
       "      <td>5917700</td>\n",
       "      <td>559000</td>\n",
       "    </tr>\n",
       "    <tr>\n",
       "      <th>25</th>\n",
       "      <td>IE</td>\n",
       "      <td>2011</td>\n",
       "      <td>33.55</td>\n",
       "      <td>1035640</td>\n",
       "      <td>5925320</td>\n",
       "      <td>546760</td>\n",
       "    </tr>\n",
       "    <tr>\n",
       "      <th>26</th>\n",
       "      <td>IE</td>\n",
       "      <td>2012</td>\n",
       "      <td>30.83</td>\n",
       "      <td>1060260</td>\n",
       "      <td>6253240</td>\n",
       "      <td>495400</td>\n",
       "    </tr>\n",
       "    <tr>\n",
       "      <th>27</th>\n",
       "      <td>IE</td>\n",
       "      <td>2013</td>\n",
       "      <td>37.76</td>\n",
       "      <td>1082460</td>\n",
       "      <td>6309050</td>\n",
       "      <td>517570</td>\n",
       "    </tr>\n",
       "    <tr>\n",
       "      <th>28</th>\n",
       "      <td>IE</td>\n",
       "      <td>2014</td>\n",
       "      <td>36.42</td>\n",
       "      <td>1127720</td>\n",
       "      <td>6243050</td>\n",
       "      <td>581810</td>\n",
       "    </tr>\n",
       "    <tr>\n",
       "      <th>29</th>\n",
       "      <td>IE</td>\n",
       "      <td>2015</td>\n",
       "      <td>28.64</td>\n",
       "      <td>1239890</td>\n",
       "      <td>6422230</td>\n",
       "      <td>564140</td>\n",
       "    </tr>\n",
       "    <tr>\n",
       "      <th>30</th>\n",
       "      <td>IE</td>\n",
       "      <td>2016</td>\n",
       "      <td>27.25</td>\n",
       "      <td>1295230</td>\n",
       "      <td>6613430</td>\n",
       "      <td>588360</td>\n",
       "    </tr>\n",
       "    <tr>\n",
       "      <th>31</th>\n",
       "      <td>IE</td>\n",
       "      <td>2017</td>\n",
       "      <td>36.31</td>\n",
       "      <td>1343300</td>\n",
       "      <td>6673590</td>\n",
       "      <td>617020</td>\n",
       "    </tr>\n",
       "    <tr>\n",
       "      <th>32</th>\n",
       "      <td>IE</td>\n",
       "      <td>2018</td>\n",
       "      <td>33.87</td>\n",
       "      <td>1369100</td>\n",
       "      <td>6593490</td>\n",
       "      <td>622540</td>\n",
       "    </tr>\n",
       "    <tr>\n",
       "      <th>33</th>\n",
       "      <td>IE</td>\n",
       "      <td>2019</td>\n",
       "      <td>32.53</td>\n",
       "      <td>1425760</td>\n",
       "      <td>6559650</td>\n",
       "      <td>619800</td>\n",
       "    </tr>\n",
       "    <tr>\n",
       "      <th>34</th>\n",
       "      <td>IE</td>\n",
       "      <td>2020</td>\n",
       "      <td>33.03</td>\n",
       "      <td>1456050</td>\n",
       "      <td>6529440</td>\n",
       "      <td>633380</td>\n",
       "    </tr>\n",
       "    <tr>\n",
       "      <th>35</th>\n",
       "      <td>IE</td>\n",
       "      <td>2021</td>\n",
       "      <td>38.31</td>\n",
       "      <td>1505270</td>\n",
       "      <td>6649310</td>\n",
       "      <td>594510</td>\n",
       "    </tr>\n",
       "  </tbody>\n",
       "</table>\n",
       "</div>"
      ],
      "text/plain": [
       "   CountryCode  Year  MilkPrice (Per 100 KG €)  DairyCowPopulation  \\\n",
       "24          IE  2010                     28.15             1006900   \n",
       "25          IE  2011                     33.55             1035640   \n",
       "26          IE  2012                     30.83             1060260   \n",
       "27          IE  2013                     37.76             1082460   \n",
       "28          IE  2014                     36.42             1127720   \n",
       "29          IE  2015                     28.64             1239890   \n",
       "30          IE  2016                     27.25             1295230   \n",
       "31          IE  2017                     36.31             1343300   \n",
       "32          IE  2018                     33.87             1369100   \n",
       "33          IE  2019                     32.53             1425760   \n",
       "34          IE  2020                     33.03             1456050   \n",
       "35          IE  2021                     38.31             1505270   \n",
       "\n",
       "    BovinePopulation  BovineMeatWeight(Tonnes)  \n",
       "24           5917700                    559000  \n",
       "25           5925320                    546760  \n",
       "26           6253240                    495400  \n",
       "27           6309050                    517570  \n",
       "28           6243050                    581810  \n",
       "29           6422230                    564140  \n",
       "30           6613430                    588360  \n",
       "31           6673590                    617020  \n",
       "32           6593490                    622540  \n",
       "33           6559650                    619800  \n",
       "34           6529440                    633380  \n",
       "35           6649310                    594510  "
      ]
     },
     "execution_count": 185,
     "metadata": {},
     "output_type": "execute_result"
    }
   ],
   "source": [
    "df_ireland.head(25)"
   ]
  },
  {
   "cell_type": "markdown",
   "id": "7e694e00",
   "metadata": {},
   "source": [
    "Reseting index's for final dataset saving."
   ]
  },
  {
   "cell_type": "code",
   "execution_count": 186,
   "id": "8cedfecf",
   "metadata": {},
   "outputs": [],
   "source": [
    "final_dfs = [df_ireland,df_spain,df_germany]\n",
    "\n",
    "for df in final_dfs:\n",
    "    df.reset_index(drop=True, inplace=True)"
   ]
  },
  {
   "cell_type": "code",
   "execution_count": 215,
   "id": "96937bed",
   "metadata": {},
   "outputs": [
    {
     "data": {
      "text/html": [
       "<div>\n",
       "<style scoped>\n",
       "    .dataframe tbody tr th:only-of-type {\n",
       "        vertical-align: middle;\n",
       "    }\n",
       "\n",
       "    .dataframe tbody tr th {\n",
       "        vertical-align: top;\n",
       "    }\n",
       "\n",
       "    .dataframe thead th {\n",
       "        text-align: right;\n",
       "    }\n",
       "</style>\n",
       "<table border=\"1\" class=\"dataframe\">\n",
       "  <thead>\n",
       "    <tr style=\"text-align: right;\">\n",
       "      <th></th>\n",
       "      <th>CountryCode</th>\n",
       "      <th>Year</th>\n",
       "      <th>MilkPrice (Per 100 KG €)</th>\n",
       "      <th>DairyCowPopulation</th>\n",
       "      <th>BovinePopulation</th>\n",
       "      <th>BovineMeatWeight(Tonnes)</th>\n",
       "    </tr>\n",
       "  </thead>\n",
       "  <tbody>\n",
       "    <tr>\n",
       "      <th>0</th>\n",
       "      <td>IE</td>\n",
       "      <td>2010</td>\n",
       "      <td>28.15</td>\n",
       "      <td>1006900</td>\n",
       "      <td>5917700</td>\n",
       "      <td>559000</td>\n",
       "    </tr>\n",
       "    <tr>\n",
       "      <th>1</th>\n",
       "      <td>IE</td>\n",
       "      <td>2011</td>\n",
       "      <td>33.55</td>\n",
       "      <td>1035640</td>\n",
       "      <td>5925320</td>\n",
       "      <td>546760</td>\n",
       "    </tr>\n",
       "    <tr>\n",
       "      <th>2</th>\n",
       "      <td>IE</td>\n",
       "      <td>2012</td>\n",
       "      <td>30.83</td>\n",
       "      <td>1060260</td>\n",
       "      <td>6253240</td>\n",
       "      <td>495400</td>\n",
       "    </tr>\n",
       "    <tr>\n",
       "      <th>3</th>\n",
       "      <td>IE</td>\n",
       "      <td>2013</td>\n",
       "      <td>37.76</td>\n",
       "      <td>1082460</td>\n",
       "      <td>6309050</td>\n",
       "      <td>517570</td>\n",
       "    </tr>\n",
       "    <tr>\n",
       "      <th>4</th>\n",
       "      <td>IE</td>\n",
       "      <td>2014</td>\n",
       "      <td>36.42</td>\n",
       "      <td>1127720</td>\n",
       "      <td>6243050</td>\n",
       "      <td>581810</td>\n",
       "    </tr>\n",
       "    <tr>\n",
       "      <th>5</th>\n",
       "      <td>IE</td>\n",
       "      <td>2015</td>\n",
       "      <td>28.64</td>\n",
       "      <td>1239890</td>\n",
       "      <td>6422230</td>\n",
       "      <td>564140</td>\n",
       "    </tr>\n",
       "    <tr>\n",
       "      <th>6</th>\n",
       "      <td>IE</td>\n",
       "      <td>2016</td>\n",
       "      <td>27.25</td>\n",
       "      <td>1295230</td>\n",
       "      <td>6613430</td>\n",
       "      <td>588360</td>\n",
       "    </tr>\n",
       "    <tr>\n",
       "      <th>7</th>\n",
       "      <td>IE</td>\n",
       "      <td>2017</td>\n",
       "      <td>36.31</td>\n",
       "      <td>1343300</td>\n",
       "      <td>6673590</td>\n",
       "      <td>617020</td>\n",
       "    </tr>\n",
       "    <tr>\n",
       "      <th>8</th>\n",
       "      <td>IE</td>\n",
       "      <td>2018</td>\n",
       "      <td>33.87</td>\n",
       "      <td>1369100</td>\n",
       "      <td>6593490</td>\n",
       "      <td>622540</td>\n",
       "    </tr>\n",
       "    <tr>\n",
       "      <th>9</th>\n",
       "      <td>IE</td>\n",
       "      <td>2019</td>\n",
       "      <td>32.53</td>\n",
       "      <td>1425760</td>\n",
       "      <td>6559650</td>\n",
       "      <td>619800</td>\n",
       "    </tr>\n",
       "    <tr>\n",
       "      <th>10</th>\n",
       "      <td>IE</td>\n",
       "      <td>2020</td>\n",
       "      <td>33.03</td>\n",
       "      <td>1456050</td>\n",
       "      <td>6529440</td>\n",
       "      <td>633380</td>\n",
       "    </tr>\n",
       "    <tr>\n",
       "      <th>11</th>\n",
       "      <td>IE</td>\n",
       "      <td>2021</td>\n",
       "      <td>38.31</td>\n",
       "      <td>1505270</td>\n",
       "      <td>6649310</td>\n",
       "      <td>594510</td>\n",
       "    </tr>\n",
       "  </tbody>\n",
       "</table>\n",
       "</div>"
      ],
      "text/plain": [
       "   CountryCode  Year  MilkPrice (Per 100 KG €)  DairyCowPopulation  \\\n",
       "0           IE  2010                     28.15             1006900   \n",
       "1           IE  2011                     33.55             1035640   \n",
       "2           IE  2012                     30.83             1060260   \n",
       "3           IE  2013                     37.76             1082460   \n",
       "4           IE  2014                     36.42             1127720   \n",
       "5           IE  2015                     28.64             1239890   \n",
       "6           IE  2016                     27.25             1295230   \n",
       "7           IE  2017                     36.31             1343300   \n",
       "8           IE  2018                     33.87             1369100   \n",
       "9           IE  2019                     32.53             1425760   \n",
       "10          IE  2020                     33.03             1456050   \n",
       "11          IE  2021                     38.31             1505270   \n",
       "\n",
       "    BovinePopulation  BovineMeatWeight(Tonnes)  \n",
       "0            5917700                    559000  \n",
       "1            5925320                    546760  \n",
       "2            6253240                    495400  \n",
       "3            6309050                    517570  \n",
       "4            6243050                    581810  \n",
       "5            6422230                    564140  \n",
       "6            6613430                    588360  \n",
       "7            6673590                    617020  \n",
       "8            6593490                    622540  \n",
       "9            6559650                    619800  \n",
       "10           6529440                    633380  \n",
       "11           6649310                    594510  "
      ]
     },
     "execution_count": 215,
     "metadata": {},
     "output_type": "execute_result"
    }
   ],
   "source": [
    "df_ireland.head(25)"
   ]
  },
  {
   "cell_type": "code",
   "execution_count": 214,
   "id": "b509df40",
   "metadata": {},
   "outputs": [
    {
     "data": {
      "text/html": [
       "<div>\n",
       "<style scoped>\n",
       "    .dataframe tbody tr th:only-of-type {\n",
       "        vertical-align: middle;\n",
       "    }\n",
       "\n",
       "    .dataframe tbody tr th {\n",
       "        vertical-align: top;\n",
       "    }\n",
       "\n",
       "    .dataframe thead th {\n",
       "        text-align: right;\n",
       "    }\n",
       "</style>\n",
       "<table border=\"1\" class=\"dataframe\">\n",
       "  <thead>\n",
       "    <tr style=\"text-align: right;\">\n",
       "      <th></th>\n",
       "      <th>Year</th>\n",
       "      <th>MilkPrice (Per 100 KG €)</th>\n",
       "      <th>DairyCowPopulation</th>\n",
       "      <th>BovinePopulation</th>\n",
       "      <th>BovineMeatWeight(Tonnes)</th>\n",
       "    </tr>\n",
       "  </thead>\n",
       "  <tbody>\n",
       "    <tr>\n",
       "      <th>count</th>\n",
       "      <td>12.000000</td>\n",
       "      <td>12.000000</td>\n",
       "      <td>1.200000e+01</td>\n",
       "      <td>1.200000e+01</td>\n",
       "      <td>12.000000</td>\n",
       "    </tr>\n",
       "    <tr>\n",
       "      <th>mean</th>\n",
       "      <td>2015.500000</td>\n",
       "      <td>33.054167</td>\n",
       "      <td>1.245632e+06</td>\n",
       "      <td>6.390792e+06</td>\n",
       "      <td>578357.500000</td>\n",
       "    </tr>\n",
       "    <tr>\n",
       "      <th>std</th>\n",
       "      <td>3.605551</td>\n",
       "      <td>3.754460</td>\n",
       "      <td>1.777104e+05</td>\n",
       "      <td>2.652778e+05</td>\n",
       "      <td>43397.769764</td>\n",
       "    </tr>\n",
       "    <tr>\n",
       "      <th>min</th>\n",
       "      <td>2010.000000</td>\n",
       "      <td>27.250000</td>\n",
       "      <td>1.006900e+06</td>\n",
       "      <td>5.917700e+06</td>\n",
       "      <td>495400.000000</td>\n",
       "    </tr>\n",
       "    <tr>\n",
       "      <th>25%</th>\n",
       "      <td>2012.750000</td>\n",
       "      <td>30.282500</td>\n",
       "      <td>1.076910e+06</td>\n",
       "      <td>6.250692e+06</td>\n",
       "      <td>555940.000000</td>\n",
       "    </tr>\n",
       "    <tr>\n",
       "      <th>50%</th>\n",
       "      <td>2015.500000</td>\n",
       "      <td>33.290000</td>\n",
       "      <td>1.267560e+06</td>\n",
       "      <td>6.475835e+06</td>\n",
       "      <td>585085.000000</td>\n",
       "    </tr>\n",
       "    <tr>\n",
       "      <th>75%</th>\n",
       "      <td>2018.250000</td>\n",
       "      <td>36.337500</td>\n",
       "      <td>1.383265e+06</td>\n",
       "      <td>6.598475e+06</td>\n",
       "      <td>617715.000000</td>\n",
       "    </tr>\n",
       "    <tr>\n",
       "      <th>max</th>\n",
       "      <td>2021.000000</td>\n",
       "      <td>38.310000</td>\n",
       "      <td>1.505270e+06</td>\n",
       "      <td>6.673590e+06</td>\n",
       "      <td>633380.000000</td>\n",
       "    </tr>\n",
       "  </tbody>\n",
       "</table>\n",
       "</div>"
      ],
      "text/plain": [
       "              Year  MilkPrice (Per 100 KG €)  DairyCowPopulation  \\\n",
       "count    12.000000                 12.000000        1.200000e+01   \n",
       "mean   2015.500000                 33.054167        1.245632e+06   \n",
       "std       3.605551                  3.754460        1.777104e+05   \n",
       "min    2010.000000                 27.250000        1.006900e+06   \n",
       "25%    2012.750000                 30.282500        1.076910e+06   \n",
       "50%    2015.500000                 33.290000        1.267560e+06   \n",
       "75%    2018.250000                 36.337500        1.383265e+06   \n",
       "max    2021.000000                 38.310000        1.505270e+06   \n",
       "\n",
       "       BovinePopulation  BovineMeatWeight(Tonnes)  \n",
       "count      1.200000e+01                 12.000000  \n",
       "mean       6.390792e+06             578357.500000  \n",
       "std        2.652778e+05              43397.769764  \n",
       "min        5.917700e+06             495400.000000  \n",
       "25%        6.250692e+06             555940.000000  \n",
       "50%        6.475835e+06             585085.000000  \n",
       "75%        6.598475e+06             617715.000000  \n",
       "max        6.673590e+06             633380.000000  "
      ]
     },
     "execution_count": 214,
     "metadata": {},
     "output_type": "execute_result"
    }
   ],
   "source": [
    "df_ireland.describe()"
   ]
  },
  {
   "cell_type": "markdown",
   "id": "3d18aa75",
   "metadata": {},
   "source": [
    "From my finsihed data I can see the following when checking the data.\n",
    "\n",
    "<span style=\"color:green\">Year</span> - Has 12 years of data, with a max of 2021 and a min of 2010\n"
   ]
  },
  {
   "cell_type": "markdown",
   "id": "0cdcdb9a",
   "metadata": {},
   "source": [
    "Now we are happy with EDA and Data Prep.\n",
    "\n",
    "\n",
    "This data is now ready for ML and Stats work"
   ]
  },
  {
   "cell_type": "code",
   "execution_count": null,
   "id": "6fdaaf80",
   "metadata": {},
   "outputs": [],
   "source": [
    "# Setting up paiplots for the 3 countrys data. Doing this to try"
   ]
  },
  {
   "cell_type": "code",
   "execution_count": 230,
   "id": "7e3b2095",
   "metadata": {},
   "outputs": [
    {
     "data": {
      "image/png": "[encoded data removed]",
      "text/plain": [
       "<Figure size 900x900 with 30 Axes>"
      ]
     },
     "metadata": {},
     "output_type": "display_data"
    }
   ],
   "source": [
    "sns.pairplot(df_ireland[['Year','MilkPrice (Per 100 KG €)','DairyCowPopulation','BovinePopulation','BovineMeatWeight(Tonnes)']],diag_kind=\"kde\");"
   ]
  },
  {
   "cell_type": "code",
   "execution_count": 231,
   "id": "64235e8f",
   "metadata": {},
   "outputs": [
    {
     "data": {
      "image/png": "[encoded data removed]",
      "text/plain": [
       "<Figure size 900x900 with 30 Axes>"
      ]
     },
     "metadata": {},
     "output_type": "display_data"
    }
   ],
   "source": [
    "sns.pairplot(df_germany[['Year','MilkPrice (Per 100 KG €)','DairyCowPopulation','BovinePopulation','BovineMeatWeight(Tonnes)']],diag_kind=\"kde\");"
   ]
  },
  {
   "cell_type": "code",
   "execution_count": 232,
   "id": "04fc68c1",
   "metadata": {},
   "outputs": [
    {
     "data": {
      "image/png": "[encoded data removed]",
      "text/plain": [
       "<Figure size 900x900 with 30 Axes>"
      ]
     },
     "metadata": {},
     "output_type": "display_data"
    }
   ],
   "source": [
    "sns.pairplot(df_spain[['Year','MilkPrice (Per 100 KG €)','DairyCowPopulation','BovinePopulation','BovineMeatWeight(Tonnes)']],diag_kind=\"kde\");"
   ]
  },
  {
   "cell_type": "markdown",
   "id": "bcff9c15",
   "metadata": {},
   "source": [
    "The plots suggest that there are no big anomalies within my data\n",
    "\n",
    "Majority the variables follow a linear relation"
   ]
  },
  {
   "cell_type": "code",
   "execution_count": 216,
   "id": "304ccfde",
   "metadata": {},
   "outputs": [],
   "source": [
    "\n",
    "\n",
    "df_spain.to_csv(\"/Users/adevane/Documents/CA2/CCT_MSC_DA_CA2/datasets/final_df_spain.csv\", index=False)"
   ]
  },
  {
   "cell_type": "code",
   "execution_count": 217,
   "id": "37083493",
   "metadata": {},
   "outputs": [],
   "source": [
    "df_ireland.to_csv(\"/Users/adevane/Documents/CA2/CCT_MSC_DA_CA2/final_df_ireland.csv\", index=False)"
   ]
  },
  {
   "cell_type": "code",
   "execution_count": 218,
   "id": "4ef0f850",
   "metadata": {},
   "outputs": [],
   "source": [
    "df_germany.to_csv(\"/Users/adevane/Documents/CA2/CCT_MSC_DA_CA2/final_df_germany.csv\", index=False)"
   ]
  },
  {
   "cell_type": "markdown",
   "id": "2b8056eb",
   "metadata": {},
   "source": [
    "# Visualisations of EDA/DATA PREP"
   ]
  },
  {
   "cell_type": "code",
   "execution_count": 213,
   "id": "cf9b70e7",
   "metadata": {},
   "outputs": [
    {
     "data": {
      "image/png": "[encoded data removed]",
      "text/plain": [
       "<Figure size 720x1800 with 3 Axes>"
      ]
     },
     "metadata": {},
     "output_type": "display_data"
    }
   ],
   "source": [
    "# Create a 2x1 grid of subplots, with the first subplot active\n",
    "fig, axs = plt.subplots(nrows=3, ncols=1, figsize=(10 ,25))\n",
    "# Trying some different styles\n",
    "#plt.style.use('seaborn-pastel')\n",
    "plt.style.use('ggplot')\n",
    "\n",
    "\n",
    "# Plotting Ireland's Data for Number of Cows.\n",
    "df_ireland.plot(x='Year', y=['DairyCowPopulation'], kind =\"bar\", ax=axs[0])\n",
    "#Adding my titles and lables\n",
    "axs[0].set_title(\"Ireland Dairy Cows\")\n",
    "axs[0].set_xlabel(\"Year\")\n",
    "axs[0].set_ylabel(\"No. of Dairy Cows\")\n",
    "# Using this style plain on y axis to remove the scienctific number to show true population value\n",
    "axs[0].ticklabel_format(axis='y', style='plain')\n",
    "\n",
    "# Plot the data from df_germany in the second subplot\n",
    "df_germany.plot(x='Year', y=['DairyCowPopulation'], kind =\"bar\", ax=axs[1])\n",
    "#Adding my titles and lables\n",
    "axs[1].set_title(\"Germany Dairy Cows\")\n",
    "axs[1].set_xlabel(\"Year\")\n",
    "axs[1].set_ylabel(\"No. of Dairy Cows\")\n",
    "# Using this style plain on y axis to remove the scienctific number to show true population value\n",
    "axs[1].ticklabel_format(axis='y', style='plain')\n",
    "\n",
    "# Plot the data from df_spain in the third subplot\n",
    "df_spain.plot(x='Year', y=['DairyCowPopulation'], kind =\"bar\", ax=axs[2])\n",
    "#Adding my titles and lables\n",
    "axs[2].set_title(\"Spain Dairy Cows\")\n",
    "axs[2].set_xlabel(\"Year\")\n",
    "axs[2].set_ylabel(\"No. of Dairy Cows\")\n",
    "# Using this style plain on y axis to remove the scienctific number to show true population value\n",
    "axs[2].ticklabel_format(axis='y', style='plain')\n"
   ]
  },
  {
   "cell_type": "code",
   "execution_count": null,
   "id": "5219d7dd",
   "metadata": {},
   "outputs": [],
   "source": []
  },
  {
   "cell_type": "code",
   "execution_count": null,
   "id": "33df57ab",
   "metadata": {},
   "outputs": [],
   "source": []
  }
 ],
 "metadata": {
  "kernelspec": {
   "display_name": "Python 3 (ipykernel)",
   "language": "python",
   "name": "python3"
  },
  "language_info": {
   "codemirror_mode": {
    "name": "ipython",
    "version": 3
   },
   "file_extension": ".py",
   "mimetype": "text/x-python",
   "name": "python",
   "nbconvert_exporter": "python",
   "pygments_lexer": "ipython3",
   "version": "3.9.12"
  }
 },
 "nbformat": 4,
 "nbformat_minor": 5
}
